{
 "cells": [
  {
   "cell_type": "markdown",
   "id": "99aa415c-b191-445c-8838-fcce409caec2",
   "metadata": {},
   "source": [
    "# Avito Data Mining Project\n",
    "    Made by: BAHRI ILHAME\n",
    "    Supervised by: Mr. Zouheir BANOU"
   ]
  },
  {
   "cell_type": "markdown",
   "id": "4397abec-1ccb-4d11-b68a-317f1c13a46d",
   "metadata": {},
   "source": [
    "## Libraries "
   ]
  },
  {
   "cell_type": "code",
   "execution_count": 529,
   "id": "8be619c4-5143-4777-b018-61105647bf3f",
   "metadata": {},
   "outputs": [],
   "source": [
    "import pandas as pd\n",
    "import matplotlib.pyplot as plt\n",
    "import numpy as np\n",
    "import seaborn as sns\n",
    "import missingno as msno"
   ]
  },
  {
   "cell_type": "markdown",
   "id": "9b8e7afd-32dd-4207-bd8b-580ccc5a33ac",
   "metadata": {},
   "source": [
    "# Data Selection:\n",
    "### Read our dataset:"
   ]
  },
  {
   "cell_type": "code",
   "execution_count": 530,
   "id": "f1caaa70-4151-48b4-abc7-ddda02ffa32c",
   "metadata": {
    "scrolled": true
   },
   "outputs": [
    {
     "name": "stderr",
     "output_type": "stream",
     "text": [
      "C:\\Users\\m\\AppData\\Local\\Temp\\ipykernel_3616\\1045292280.py:1: DtypeWarning: Columns (10) have mixed types. Specify dtype option on import or set low_memory=False.\n",
      "  avito_data = pd.read_csv('avito_voitures_d_occasion_data.csv')\n"
     ]
    }
   ],
   "source": [
    "avito_data = pd.read_csv('avito_voitures_d_occasion_data.csv')\n",
    "# avito_data.head(5)"
   ]
  },
  {
   "cell_type": "markdown",
   "id": "b3e04cd7-efb4-455c-9d44-0c9f6da08e10",
   "metadata": {},
   "source": [
    "# Data understanding:"
   ]
  },
  {
   "cell_type": "code",
   "execution_count": 531,
   "id": "a82f5fea-17be-43e6-86f2-f62d1b9bbb2e",
   "metadata": {},
   "outputs": [
    {
     "name": "stdout",
     "output_type": "stream",
     "text": [
      "<class 'pandas.core.frame.DataFrame'>\n",
      "RangeIndex: 89127 entries, 0 to 89126\n",
      "Data columns (total 16 columns):\n",
      " #   Column             Non-Null Count  Dtype \n",
      "---  ------             --------------  ----- \n",
      " 0   titre              89126 non-null  object\n",
      " 1   prix               66936 non-null  object\n",
      " 2   localisation       89126 non-null  object\n",
      " 3   lien               89127 non-null  object\n",
      " 4   annéemodèle        88757 non-null  object\n",
      " 5   boite de vitesses  88413 non-null  object\n",
      " 6   type de carburant  88810 non-null  object\n",
      " 7   kilométrage        88721 non-null  object\n",
      " 8   marque             88719 non-null  object\n",
      " 9   modèle             88719 non-null  object\n",
      " 10  nombre de portes   77392 non-null  object\n",
      " 11  origine            77122 non-null  object\n",
      " 12  première main      75346 non-null  object\n",
      " 13  puissance fiscale  88446 non-null  object\n",
      " 14  état               85134 non-null  object\n",
      " 15  equipements        89127 non-null  object\n",
      "dtypes: object(16)\n",
      "memory usage: 10.9+ MB\n"
     ]
    }
   ],
   "source": [
    "avito_data.shape\n",
    "avito_data.info()"
   ]
  },
  {
   "cell_type": "code",
   "execution_count": 532,
   "id": "3e1a9fa8-5fc1-420c-9a1a-49a9822b0315",
   "metadata": {
    "scrolled": true
   },
   "outputs": [],
   "source": [
    "# print(avito_data['première main'].value_counts(dropna=False))\n",
    "# print(avito_data['boite de vitesses'].value_counts(dropna=False))\n",
    "# print(avito_data['type de carburant'].value_counts(dropna=False))\n",
    "# print(avito_data['marque'].value_counts(dropna=False))\n",
    "# print(avito_data['modèle'].value_counts(dropna=False))\n",
    "# print(avito_data['nombre de portes'].value_counts(dropna=False))\n",
    "# print(avito_data['origine'].value_counts(dropna=False))\n",
    "# print(avito_data['puissance fiscale'].value_counts(dropna=False))\n",
    "# print(avito_data['état'].value_counts(dropna=False))"
   ]
  },
  {
   "cell_type": "markdown",
   "id": "60753bad-e487-4c70-8f02-dc839d521724",
   "metadata": {},
   "source": [
    "# Problèmes à régler :"
   ]
  },
  {
   "cell_type": "markdown",
   "id": "a95eb810-58d5-4cf3-827c-91ab1835e7cd",
   "metadata": {},
   "source": [
    "\n",
    "\r\n",
    "## 🟡 Valeurs manquantes (incomplétude)\r\n",
    "- `prix` → plus de **22 000 valeurs manquantes**.\r\n",
    "- `annéemodèle`, `boite de vitesses`, `type de carburant`, `kilométrage`, `marque`, `modèle` → plusieurs **centaines de valeurs manquantes**.\r\n",
    "- `nombre de portes`, `origine`, `première main`, `puissance fiscale`, `état`, `equipements` → **fortement incomplètes**, jusqu’à **15 000+ valeurs manquantes**.\r\n",
    "- `titre` et `localisation` ont **1 valeur manquante** chacune.\r\n",
    "\r\n",
    "---\r\n",
    "\r\n",
    "## 🔶 Types de données\r\n",
    "- Toutes les colonnes sont au format `object`, même celles qui devraient être :\r\n",
    "  - Numériques : `prix`, `kilométrage`, `annéemodèle`, `puissance fiscale`, `nombre de portes`.\r\n",
    "  - Booléennes : `première main`.\r\n",
    "\r\n",
    "---\r\n",
    "\r\n",
    "## ⚠️ Format et contenu\r\n",
    "- `prix` contient l'unité \"DH\" à supprimer.\r\n",
    "- `kilométrage` est sous forme de **plages de valeurs** (`\"95 000 - 99 999\"`).\r\n",
    "- `puissance fiscale` contient `\"CV\"` (à extraire).\r\n",
    "- `titre` contient des informations **non structurées et redondantes** (modèle, carburant, année...).\r\n",
    "- `localisation` combine **quartier + ville**, parfois en arabe ou en français.\r\n",
    "- `origine`, `état`, `boite de vitesses`, etc. utilisent des **valeurs catégorielles non homogènes**.\r\n",
    "- `equipements` est une **liste encodée sous forme de string**, parfois vide ou absente.\r\n",
    "\r\n",
    "---\r\n",
    "\r\n",
    "## 🔁 Cohérence & duplications\r\n",
    "- Risque de **doublons** d’annonces (mêmes titres, modèles, etc.).\r\n",
    "- `modèle` peut contenir des fautes ou des variantes (`mercedess`, `range rover`, etc.).\r\n",
    "- `marque` et `modèle` sont parfois mal associés.\r\n",
    "- Mélange de langues (français/arabe) dans certaines colonnes (`localisation`, `titre`...).\r\n",
    "\r\n",
    "---\r\n",
    "\r\n",
    "## 🧩 Désalignement de colonnes\r\n",
    "- Certaines lignes semblent **décalées** (ex. ligne 3 : plusieurs champs vides ou mal positionnés).\r\n",
    "- Incohérences entre `nombre de portes`, `modèle` ou `état` (ex : 6 portes pour une Clio).\r\n",
    "\r\n",
    "n entre nombre de portes, modèle, ou état (ex. 6 portes pour une Clio)."
   ]
  },
  {
   "cell_type": "markdown",
   "id": "2056ba87-2bb3-481d-8564-47e02a38a110",
   "metadata": {},
   "source": [
    "# Let's start dealing with these problems starting with the most important ones!"
   ]
  },
  {
   "cell_type": "code",
   "execution_count": 533,
   "id": "db2eb845-910b-4aea-8a4a-30ad93e4ebba",
   "metadata": {},
   "outputs": [
    {
     "name": "stdout",
     "output_type": "stream",
     "text": [
      "Index(['titre', 'prix', 'localisation', 'lien', 'annéemodèle',\n",
      "       'boite de vitesses', 'type de carburant', 'kilométrage', 'marque',\n",
      "       'modèle', 'nombre de portes', 'origine', 'première main',\n",
      "       'puissance fiscale', 'état', 'equipements'],\n",
      "      dtype='object')\n"
     ]
    }
   ],
   "source": [
    "print(avito_data.columns)"
   ]
  },
  {
   "cell_type": "markdown",
   "id": "d2dd8fe5-e20f-476b-8a50-446597fea647",
   "metadata": {},
   "source": [
    "## Supprimer les colonnes 'lien' et 'titre'"
   ]
  },
  {
   "cell_type": "code",
   "execution_count": 534,
   "id": "90f97875-7e6c-4fe0-95d0-4902e5c1dbcf",
   "metadata": {
    "scrolled": true
   },
   "outputs": [],
   "source": [
    "avito_data = avito_data.drop(columns=['lien', 'titre'])\n",
    "\n",
    "# Vérifier le résultat\n",
    "# avito_data.head(5)"
   ]
  },
  {
   "cell_type": "code",
   "execution_count": 535,
   "id": "7ed7e6af-7948-488d-be8b-19d3bbfac4c8",
   "metadata": {
    "scrolled": true
   },
   "outputs": [
    {
     "name": "stdout",
     "output_type": "stream",
     "text": [
      "Nombre de doublons : 8757\n"
     ]
    }
   ],
   "source": [
    "# Find duplicates\n",
    "duplicate_check = avito_data.duplicated().sum()\n",
    "print(f\"Nombre de doublons : {duplicate_check}\")\n",
    "duplicate_rows = avito_data[avito_data.duplicated(keep=False)]\n",
    "# duplicate_rows"
   ]
  },
  {
   "cell_type": "markdown",
   "id": "de49e0df-a5cf-4865-9a99-3655ea446179",
   "metadata": {},
   "source": [
    "### This means that 9351 rows of data are exact duplicates of others. These need to be deleted."
   ]
  },
  {
   "cell_type": "code",
   "execution_count": 536,
   "id": "59d3458f-aef6-464b-8563-cfc537c4a526",
   "metadata": {},
   "outputs": [],
   "source": [
    "avito_data = avito_data.drop_duplicates(keep='first')"
   ]
  },
  {
   "cell_type": "code",
   "execution_count": 537,
   "id": "e81cb1b9-c716-40e5-9366-8a82aa6eefa8",
   "metadata": {},
   "outputs": [
    {
     "name": "stdout",
     "output_type": "stream",
     "text": [
      "Nombre de doublons restants : 0\n"
     ]
    }
   ],
   "source": [
    "duplicate_check = avito_data.duplicated().sum()\n",
    "print(f\"Nombre de doublons restants : {duplicate_check}\")"
   ]
  },
  {
   "cell_type": "code",
   "execution_count": 538,
   "id": "1a44aabb-3ceb-457d-8302-ba3773c49a13",
   "metadata": {},
   "outputs": [
    {
     "data": {
      "text/plain": [
       "(80370, 14)"
      ]
     },
     "execution_count": 538,
     "metadata": {},
     "output_type": "execute_result"
    }
   ],
   "source": [
    "avito_data.shape"
   ]
  },
  {
   "cell_type": "code",
   "execution_count": 539,
   "id": "19f9bf37-e8f7-4bab-81de-faf48b00c1d1",
   "metadata": {},
   "outputs": [],
   "source": [
    "# # Afficher les 100 premières lignes\n",
    "# avito_data.head(4000)\n",
    "\n",
    "# # Ou un échantillon aléatoire\n",
    "# # avito_data.sample(100)\n"
   ]
  },
  {
   "cell_type": "code",
   "execution_count": 540,
   "id": "d768fb18-dadc-4643-854f-d35eefd9248e",
   "metadata": {},
   "outputs": [],
   "source": [
    "# # Réinitialiser les options si nécessaire\n",
    "# pd.reset_option('display.max_rows')\n",
    "# pd.reset_option('display.max_columns')\n"
   ]
  },
  {
   "cell_type": "markdown",
   "id": "e81842f5-a0c9-4174-8777-c152454adb92",
   "metadata": {},
   "source": [
    "# Resoudre Types"
   ]
  },
  {
   "cell_type": "markdown",
   "id": "875db205-030b-43b6-8758-a21177df4f9c",
   "metadata": {},
   "source": [
    "## 1. Conversion de la colonne prix en numérique"
   ]
  },
  {
   "cell_type": "code",
   "execution_count": 541,
   "id": "b0ebafe2-1238-4165-8e0f-064f01dfceeb",
   "metadata": {
    "scrolled": true
   },
   "outputs": [
    {
     "name": "stdout",
     "output_type": "stream",
     "text": [
      "      prix\n",
      "4      NaN\n",
      "5      NaN\n",
      "7      NaN\n",
      "10     NaN\n",
      "11     NaN\n",
      "...    ...\n",
      "89118  NaN\n",
      "89119  NaN\n",
      "89120  NaN\n",
      "89121  NaN\n",
      "89126  NaN\n",
      "\n",
      "[19428 rows x 1 columns]\n"
     ]
    }
   ],
   "source": [
    "# 1. Forcer les prix en chaîne de caractères\n",
    "avito_data['prix'] = avito_data['prix'].astype(str)\n",
    "\n",
    "# 2. Nettoyage : supprimer ' DH' et les espaces\n",
    "avito_data['prix'] = avito_data['prix'].str.replace(' DH', '', regex=False).str.replace(' ', '')\n",
    "\n",
    "# 3. Supprimer les valeurs 'nan' textuelles (issues de la conversion str)\n",
    "avito_data['prix'] = avito_data['prix'].replace('nan', np.nan)\n",
    "\n",
    "# 4. Créer une colonne temporaire 'prix_temp' pour vérifier si c’est numérique (en toute sécurité)\n",
    "def is_numeric(val):\n",
    "    try:\n",
    "        int(val)\n",
    "        return True\n",
    "    except:\n",
    "        return False\n",
    "\n",
    "avito_data['prix_temp'] = avito_data['prix'].apply(lambda x: is_numeric(x) if pd.notnull(x) else False)\n",
    "\n",
    "# 5. Afficher les lignes non numériques\n",
    "non_numeric_prix = avito_data[~avito_data['prix_temp']]\n",
    "print(non_numeric_prix[['prix']])\n",
    "\n",
    "# 6. Garder uniquement les lignes avec prix numériques\n",
    "avito_data_clean = avito_data[avito_data['prix_temp']].copy()\n",
    "\n",
    "# 7. Conversion finale en int\n",
    "avito_data_clean['prix'] = avito_data_clean['prix'].astype(int)\n",
    "\n",
    "# 8. Supprimer la colonne temporaire\n",
    "avito_data.drop(columns='prix_temp', inplace=True)\n",
    "\n",
    "# ✅ Résultat\n",
    "# print(avito_data_clean[['prix', 'localisation', 'modèle']].head())\n"
   ]
  },
  {
   "cell_type": "code",
   "execution_count": 542,
   "id": "5f270cf2-00e8-47a6-b267-677707754d82",
   "metadata": {},
   "outputs": [],
   "source": [
    "# avito_data.head()"
   ]
  },
  {
   "cell_type": "markdown",
   "id": "dea8855f-a1ad-4e16-a31a-40cba9af46d4",
   "metadata": {},
   "source": [
    "## 2. Conversion de la colonne annéemodèle en numérique"
   ]
  },
  {
   "cell_type": "code",
   "execution_count": 543,
   "id": "b18ea854-77ed-4111-a365-ac2d006e528b",
   "metadata": {},
   "outputs": [],
   "source": [
    "# Remplacer les valeurs NaN par une valeur par défaut, puis convertir en entier\n",
    "avito_data['annéemodèle'] = pd.to_numeric(avito_data['annéemodèle'], errors='coerce')\n",
    "avito_data['annéemodèle'] = avito_data['annéemodèle'].fillna(0).astype(int)"
   ]
  },
  {
   "cell_type": "markdown",
   "id": "a64329a7-4625-41de-8b49-6e6c6dcd32cb",
   "metadata": {},
   "source": [
    "## 3. Conversion des colonnes kilométrage et puissance fiscale"
   ]
  },
  {
   "cell_type": "code",
   "execution_count": 544,
   "id": "455ab731-38b5-46f8-b146-5e87a986252b",
   "metadata": {},
   "outputs": [],
   "source": [
    "import pandas as pd\n",
    "import numpy as np\n",
    "import re\n",
    "\n",
    "# Fonction pour extraire la moyenne d'un intervalle kilométrique\n",
    "def convertir_kilometrage(val):\n",
    "    if isinstance(val, str):\n",
    "        # Trouver les nombres dans la chaîne\n",
    "        chiffres = [int(x.replace(' ', '')) for x in re.findall(r'\\d[\\d ]*', val)]\n",
    "        if len(chiffres) == 2:\n",
    "            return np.mean(chiffres)+0.5\n",
    "        elif len(chiffres) == 1:\n",
    "            return chiffres[0]\n",
    "        else:\n",
    "            return np.nan\n",
    "    return val\n",
    "\n",
    "# Appliquer la fonction à la colonne\n",
    "avito_data['kilométrage'] = avito_data['kilométrage'].apply(convertir_kilometrage)"
   ]
  },
  {
   "cell_type": "code",
   "execution_count": 545,
   "id": "a0ebc716-4bdc-4f2f-93d2-c9873d1c3872",
   "metadata": {},
   "outputs": [],
   "source": [
    "# avito_data"
   ]
  },
  {
   "cell_type": "code",
   "execution_count": 546,
   "id": "4fb62476-215f-43fd-a32d-07a5014ac651",
   "metadata": {},
   "outputs": [
    {
     "name": "stdout",
     "output_type": "stream",
     "text": [
      "<class 'pandas.core.frame.DataFrame'>\n",
      "Index: 80370 entries, 0 to 89126\n",
      "Data columns (total 14 columns):\n",
      " #   Column             Non-Null Count  Dtype  \n",
      "---  ------             --------------  -----  \n",
      " 0   prix               60943 non-null  object \n",
      " 1   localisation       80369 non-null  object \n",
      " 2   annéemodèle        80370 non-null  int32  \n",
      " 3   boite de vitesses  79728 non-null  object \n",
      " 4   type de carburant  80104 non-null  object \n",
      " 5   kilométrage        80022 non-null  float64\n",
      " 6   marque             80021 non-null  object \n",
      " 7   modèle             80021 non-null  object \n",
      " 8   nombre de portes   69705 non-null  object \n",
      " 9   origine            69428 non-null  object \n",
      " 10  première main      67846 non-null  object \n",
      " 11  puissance fiscale  79756 non-null  object \n",
      " 12  état               76755 non-null  object \n",
      " 13  equipements        80370 non-null  object \n",
      "dtypes: float64(1), int32(1), object(12)\n",
      "memory usage: 8.9+ MB\n"
     ]
    }
   ],
   "source": [
    "avito_data.info()"
   ]
  },
  {
   "cell_type": "code",
   "execution_count": 547,
   "id": "06bdf488-c2bd-4512-a677-f53b529f28f2",
   "metadata": {},
   "outputs": [
    {
     "data": {
      "text/plain": [
       "(80370, 14)"
      ]
     },
     "execution_count": 547,
     "metadata": {},
     "output_type": "execute_result"
    }
   ],
   "source": [
    "avito_data.shape"
   ]
  },
  {
   "cell_type": "code",
   "execution_count": 548,
   "id": "3b024859-2add-4552-a631-09b361a1e900",
   "metadata": {},
   "outputs": [],
   "source": [
    "# print(avito_data['première main'].value_counts(dropna=False))\n",
    "# print(avito_data['boite de vitesses'].value_counts(dropna=False))\n",
    "# print(avito_data['type de carburant'].value_counts(dropna=False))\n",
    "# print(avito_data['marque'].value_counts(dropna=False))\n",
    "# print(avito_data['modèle'].value_counts(dropna=False))\n",
    "# print(avito_data['nombre de portes'].value_counts(dropna=False))\n",
    "# print(avito_data['origine'].value_counts(dropna=False))\n",
    "# print(avito_data['puissance fiscale'].value_counts(dropna=False))\n",
    "# print(avito_data['état'].value_counts(dropna=False))"
   ]
  },
  {
   "cell_type": "code",
   "execution_count": 549,
   "id": "b348f906-ec09-45b5-96e3-30f9c513987d",
   "metadata": {},
   "outputs": [
    {
     "data": {
      "text/plain": [
       "prix                 19427\n",
       "première main        12524\n",
       "origine              10942\n",
       "nombre de portes     10665\n",
       "état                  3615\n",
       "boite de vitesses      642\n",
       "puissance fiscale      614\n",
       "marque                 349\n",
       "modèle                 349\n",
       "kilométrage            348\n",
       "type de carburant      266\n",
       "localisation             1\n",
       "annéemodèle              0\n",
       "equipements              0\n",
       "dtype: int64"
      ]
     },
     "execution_count": 549,
     "metadata": {},
     "output_type": "execute_result"
    }
   ],
   "source": [
    "# Print number of missing values\n",
    "avito_data.isna().sum().sort_values(ascending=False)"
   ]
  },
  {
   "cell_type": "markdown",
   "id": "acdfd1db-8198-4220-b64b-9e7c85917f66",
   "metadata": {},
   "source": [
    "# Handle missing values"
   ]
  },
  {
   "cell_type": "markdown",
   "id": "a720bf71-7ec3-4e54-8bd9-1c746d6f7ccb",
   "metadata": {},
   "source": [
    "### Prix (variable cible) "
   ]
  },
  {
   "cell_type": "code",
   "execution_count": 550,
   "id": "57cae2aa-790e-4894-a67e-226140d4843e",
   "metadata": {},
   "outputs": [
    {
     "name": "stdout",
     "output_type": "stream",
     "text": [
      "modèle\n",
      "Tiguan      653\n",
      "Clio        571\n",
      "Logan       522\n",
      "220         459\n",
      "Duster      390\n",
      "Kangoo      381\n",
      "Dokker      347\n",
      "Classe C    332\n",
      "Sandero     320\n",
      "Megane      289\n",
      "Name: count, dtype: int64\n"
     ]
    }
   ],
   "source": [
    "missing_by_model = avito_data[avito_data['prix'].isna()]['modèle'].value_counts()\n",
    "print(missing_by_model.head(10))"
   ]
  },
  {
   "cell_type": "code",
   "execution_count": 551,
   "id": "15a8aeba-3895-4e0c-aae5-366157737694",
   "metadata": {},
   "outputs": [
    {
     "name": "stdout",
     "output_type": "stream",
     "text": [
      "Nombre de lignes après suppression : 60943\n"
     ]
    }
   ],
   "source": [
    "# Supprimer les lignes où le prix est manquant\n",
    "avito_data = avito_data.dropna(subset=['prix'])\n",
    "\n",
    "# (Optionnel) Réinitialiser l'index\n",
    "avito_data.reset_index(drop=True, inplace=True)\n",
    "\n",
    "# Vérification rapide\n",
    "print(f\"Nombre de lignes après suppression : {len(avito_data)}\")"
   ]
  },
  {
   "cell_type": "code",
   "execution_count": 552,
   "id": "f9b8f631-a39e-4e6c-b20c-5f7df3cb8738",
   "metadata": {},
   "outputs": [
    {
     "data": {
      "text/plain": [
       "première main        8291\n",
       "origine              7494\n",
       "nombre de portes     6853\n",
       "état                 2341\n",
       "puissance fiscale     439\n",
       "boite de vitesses     435\n",
       "kilométrage           213\n",
       "marque                213\n",
       "modèle                213\n",
       "type de carburant     174\n",
       "prix                    0\n",
       "localisation            0\n",
       "annéemodèle             0\n",
       "equipements             0\n",
       "dtype: int64"
      ]
     },
     "execution_count": 552,
     "metadata": {},
     "output_type": "execute_result"
    }
   ],
   "source": [
    "# Print number of missing values\n",
    "avito_data.isna().sum().sort_values(ascending=False)"
   ]
  },
  {
   "cell_type": "code",
   "execution_count": 553,
   "id": "95d53830-1001-424b-a784-14d2fa71186a",
   "metadata": {},
   "outputs": [],
   "source": [
    "avito_data = avito_data.dropna(subset=['prix', 'puissance fiscale', 'boite de vitesses', 'kilométrage', 'marque', 'modèle', 'type de carburant'])"
   ]
  },
  {
   "cell_type": "code",
   "execution_count": 554,
   "id": "6d864f69-8865-4ecf-8fae-0dbae8928a61",
   "metadata": {},
   "outputs": [
    {
     "data": {
      "text/plain": [
       "première main        7841\n",
       "origine              7046\n",
       "nombre de portes     6408\n",
       "état                 2039\n",
       "prix                    0\n",
       "localisation            0\n",
       "annéemodèle             0\n",
       "boite de vitesses       0\n",
       "type de carburant       0\n",
       "kilométrage             0\n",
       "marque                  0\n",
       "modèle                  0\n",
       "puissance fiscale       0\n",
       "equipements             0\n",
       "dtype: int64"
      ]
     },
     "execution_count": 554,
     "metadata": {},
     "output_type": "execute_result"
    }
   ],
   "source": [
    "avito_data.isna().sum().sort_values(ascending=False)"
   ]
  },
  {
   "cell_type": "code",
   "execution_count": 555,
   "id": "750246dc-3211-440e-bc04-6b177501849e",
   "metadata": {},
   "outputs": [
    {
     "name": "stdout",
     "output_type": "stream",
     "text": [
      "<class 'pandas.core.frame.DataFrame'>\n",
      "Index: 60363 entries, 0 to 60942\n",
      "Data columns (total 14 columns):\n",
      " #   Column             Non-Null Count  Dtype  \n",
      "---  ------             --------------  -----  \n",
      " 0   prix               60363 non-null  object \n",
      " 1   localisation       60363 non-null  object \n",
      " 2   annéemodèle        60363 non-null  int32  \n",
      " 3   boite de vitesses  60363 non-null  object \n",
      " 4   type de carburant  60363 non-null  object \n",
      " 5   kilométrage        60363 non-null  float64\n",
      " 6   marque             60363 non-null  object \n",
      " 7   modèle             60363 non-null  object \n",
      " 8   nombre de portes   53955 non-null  object \n",
      " 9   origine            53317 non-null  object \n",
      " 10  première main      52522 non-null  object \n",
      " 11  puissance fiscale  60363 non-null  object \n",
      " 12  état               58324 non-null  object \n",
      " 13  equipements        60363 non-null  object \n",
      "dtypes: float64(1), int32(1), object(12)\n",
      "memory usage: 6.7+ MB\n"
     ]
    }
   ],
   "source": [
    "avito_data.info()"
   ]
  },
  {
   "cell_type": "markdown",
   "id": "d5cb890a-4a30-4c80-beea-9e656370df8e",
   "metadata": {},
   "source": [
    "Colonne | Type actuel | Type voulu | Détail de la conversion\n",
    "prix | object | int | Convertir en entier (actuellement en texte)\n",
    "kilométrage | float64 | int | Approximatif, arrondi\n",
    "nombre de portes | object | int ou float | Si possible (ex: \"5.0\" → 5)\n",
    "puissance fiscale | object | int | Extraire les chiffres (ex: \"6 CV\" → 6)\n",
    "première main | object | bool | Convertir \"Oui\"/\"Non\" en True/False\n",
    "equipements | object | list | Transformer les chaînes en vraies listes Python"
   ]
  },
  {
   "cell_type": "code",
   "execution_count": 556,
   "id": "6a1b669d-876c-4285-9d21-55c67083e618",
   "metadata": {},
   "outputs": [],
   "source": [
    "# avito_data"
   ]
  },
  {
   "cell_type": "markdown",
   "id": "a9d8695a-a5a2-4b92-9e6e-258e5cbc4e71",
   "metadata": {},
   "source": [
    "### conversions des colonnes :\n",
    "\n",
    "| Colonne             | Type actuel  | Type voulu  | Détail de la conversion |\n",
    "|---------------------|--------------|-------------|-------------------------|\n",
    "| **prix**            | `object`     | `int`       | Convertir en entier (actuellement en texte) |\n",
    "| **kilométrage**     | `float64`    | `int`       | Approximatif, arrondi |\n",
    "| **nombre de portes**| `object`     | `int` ou `float` | Si possible (ex: \"5.0\" → 5) |\n",
    "| **puissance fiscale**| `object`    | `int`       | Extraire les chiffres (ex: \"6 CV\" → 6) |\n",
    "| **première main**   | `object`     | `bool`      | Convertir \"Oui\"/\"Non\" en `True`/`False` |\n",
    "| **equipements**     | `object`     | `list`      | Transformer les chaînes en vraies listes Python |"
   ]
  },
  {
   "cell_type": "code",
   "execution_count": 557,
   "id": "862ebfe4-7db0-4d6b-8cf1-709256d0cbe7",
   "metadata": {},
   "outputs": [
    {
     "name": "stdout",
     "output_type": "stream",
     "text": [
      "prix                  int64\n",
      "localisation         object\n",
      "annéemodèle           int32\n",
      "boite de vitesses    object\n",
      "type de carburant    object\n",
      "kilométrage           int32\n",
      "marque               object\n",
      "modèle               object\n",
      "nombre de portes      Int64\n",
      "origine              object\n",
      "première main        object\n",
      "puissance fiscale     Int64\n",
      "état                 object\n",
      "equipements          object\n",
      "dtype: object\n"
     ]
    }
   ],
   "source": [
    "import pandas as pd\n",
    "import numpy as np\n",
    "import ast\n",
    "\n",
    "# 1. Convertir 'prix' en int\n",
    "avito_data['prix'] = pd.to_numeric(avito_data['prix'], errors='coerce')\n",
    "\n",
    "# 2. Convertir 'kilométrage' en int\n",
    "avito_data['kilométrage'] = avito_data['kilométrage'].fillna(0).astype(int)\n",
    "\n",
    "# 3. Convertir 'nombre de portes' en int\n",
    "avito_data['nombre de portes'] = pd.to_numeric(avito_data['nombre de portes'], errors='coerce').astype('Int64')\n",
    "\n",
    "# 4. Extraire le nombre dans 'puissance fiscale'\n",
    "avito_data['puissance fiscale'] = avito_data['puissance fiscale'].str.extract(r'(\\d+)').astype(float).astype('Int64')\n",
    "\n",
    "# 5. Convertir 'première main' en booléen\n",
    "avito_data['première main'] = avito_data['première main'].map({'Oui': True, 'Non': False})\n",
    "\n",
    "# 6. Convertir 'equipements' de string vers liste\n",
    "def convertir_en_liste(e):\n",
    "    if isinstance(e, str):\n",
    "        try:\n",
    "            return ast.literal_eval(e)\n",
    "        except:\n",
    "            return []\n",
    "    return e\n",
    "\n",
    "avito_data['equipements'] = avito_data['equipements'].apply(convertir_en_liste)\n",
    "\n",
    "# ✅ Vérification finale des types\n",
    "print(avito_data.dtypes)"
   ]
  },
  {
   "cell_type": "code",
   "execution_count": 558,
   "id": "cfe934df-b1ff-4491-8341-076ac32d044d",
   "metadata": {},
   "outputs": [
    {
     "name": "stdout",
     "output_type": "stream",
     "text": [
      "<class 'pandas.core.frame.DataFrame'>\n",
      "Index: 60363 entries, 0 to 60942\n",
      "Data columns (total 14 columns):\n",
      " #   Column             Non-Null Count  Dtype \n",
      "---  ------             --------------  ----- \n",
      " 0   prix               60363 non-null  int64 \n",
      " 1   localisation       60363 non-null  object\n",
      " 2   annéemodèle        60363 non-null  int32 \n",
      " 3   boite de vitesses  60363 non-null  object\n",
      " 4   type de carburant  60363 non-null  object\n",
      " 5   kilométrage        60363 non-null  int32 \n",
      " 6   marque             60363 non-null  object\n",
      " 7   modèle             60363 non-null  object\n",
      " 8   nombre de portes   53955 non-null  Int64 \n",
      " 9   origine            53317 non-null  object\n",
      " 10  première main      52522 non-null  object\n",
      " 11  puissance fiscale  60363 non-null  Int64 \n",
      " 12  état               58324 non-null  object\n",
      " 13  equipements        60363 non-null  object\n",
      "dtypes: Int64(2), int32(2), int64(1), object(9)\n",
      "memory usage: 6.6+ MB\n"
     ]
    }
   ],
   "source": [
    "avito_data.info()"
   ]
  },
  {
   "cell_type": "code",
   "execution_count": 559,
   "id": "0779d07e-585f-4070-99ed-7e26797abaca",
   "metadata": {},
   "outputs": [
    {
     "data": {
      "text/plain": [
       "première main        7841\n",
       "origine              7046\n",
       "nombre de portes     6408\n",
       "état                 2039\n",
       "prix                    0\n",
       "localisation            0\n",
       "annéemodèle             0\n",
       "boite de vitesses       0\n",
       "type de carburant       0\n",
       "kilométrage             0\n",
       "marque                  0\n",
       "modèle                  0\n",
       "puissance fiscale       0\n",
       "equipements             0\n",
       "dtype: int64"
      ]
     },
     "execution_count": 559,
     "metadata": {},
     "output_type": "execute_result"
    }
   ],
   "source": [
    "# Print number of missing values\n",
    "avito_data.isna().sum().sort_values(ascending=False)"
   ]
  },
  {
   "cell_type": "code",
   "execution_count": 560,
   "id": "8adc61d2-888c-493a-a17e-2c9d02617bab",
   "metadata": {},
   "outputs": [],
   "source": [
    "# avito_data"
   ]
  },
  {
   "cell_type": "markdown",
   "id": "8a5320e0-279b-4b8e-922e-41018ead66f5",
   "metadata": {},
   "source": [
    "# 1️⃣ nombre de portes – Prédiction avec modèle"
   ]
  },
  {
   "cell_type": "code",
   "execution_count": 561,
   "id": "c64757e9-5ebc-4528-a1ac-89c18cb85581",
   "metadata": {},
   "outputs": [],
   "source": [
    "from sklearn.ensemble import RandomForestClassifier\n",
    "from sklearn.model_selection import train_test_split\n",
    "\n",
    "# Données avec valeur connue\n",
    "df_doors_known = avito_data[avito_data['nombre de portes'].notnull()]\n",
    "df_doors_unknown = avito_data[avito_data['nombre de portes'].isnull()]\n",
    "\n",
    "# Encoding\n",
    "X = pd.get_dummies(df_doors_known[['marque', 'modèle', 'kilométrage']], drop_first=True)\n",
    "y = df_doors_known['nombre de portes'].astype(str)\n",
    "\n",
    "# Modèle\n",
    "clf = RandomForestClassifier()\n",
    "clf.fit(X, y)\n",
    "\n",
    "# Prédiction\n",
    "X_unknown = pd.get_dummies(df_doors_unknown[['marque', 'modèle', 'kilométrage']], drop_first=True)\n",
    "X_unknown = X_unknown.reindex(columns=X.columns, fill_value=0)  # align columns\n",
    "avito_data.loc[avito_data['nombre de portes'].isnull(), 'nombre de portes'] = clf.predict(X_unknown)\n"
   ]
  },
  {
   "cell_type": "code",
   "execution_count": 562,
   "id": "f5cf7d7d-4b0e-4d96-a9f5-47f7eb44fdbb",
   "metadata": {},
   "outputs": [
    {
     "data": {
      "text/plain": [
       "première main        7841\n",
       "origine              7046\n",
       "état                 2039\n",
       "prix                    0\n",
       "localisation            0\n",
       "annéemodèle             0\n",
       "boite de vitesses       0\n",
       "type de carburant       0\n",
       "kilométrage             0\n",
       "marque                  0\n",
       "modèle                  0\n",
       "nombre de portes        0\n",
       "puissance fiscale       0\n",
       "equipements             0\n",
       "dtype: int64"
      ]
     },
     "execution_count": 562,
     "metadata": {},
     "output_type": "execute_result"
    }
   ],
   "source": [
    "# Print number of missing values\n",
    "avito_data.isna().sum().sort_values(ascending=False)"
   ]
  },
  {
   "cell_type": "markdown",
   "id": "09d142f2-9705-41a5-bc76-fec1a0c35c34",
   "metadata": {},
   "source": [
    "# 2️⃣ état – Clustering + Imputation\n",
    "On crée des clusters d’annonces similaires (via KMeans ou DBSCAN), puis on impute état dans chaque cluster par la valeur dominante."
   ]
  },
  {
   "cell_type": "code",
   "execution_count": 563,
   "id": "b391fb9f-774e-4748-97d0-41668a7ceeb2",
   "metadata": {},
   "outputs": [],
   "source": [
    "from sklearn.cluster import KMeans\n",
    "from sklearn.preprocessing import StandardScaler\n",
    "\n",
    "# Sélection de colonnes numériques\n",
    "features = avito_data[['kilométrage', 'annéemodèle']]\n",
    "scaler = StandardScaler()\n",
    "X_scaled = scaler.fit_transform(features)\n",
    "\n",
    "# Clustering\n",
    "kmeans = KMeans(n_clusters=5, random_state=42)\n",
    "avito_data['cluster'] = kmeans.fit_predict(X_scaled)\n",
    "\n",
    "# Imputation par cluster\n",
    "avito_data['état'] = avito_data.groupby('cluster')['état'].transform(lambda x: x.fillna(x.mode()[0] if not x.mode().empty else 'Bon'))\n",
    "avito_data.drop('cluster', axis=1, inplace=True)\n"
   ]
  },
  {
   "cell_type": "code",
   "execution_count": 564,
   "id": "fab813dc-d623-4a3d-a73d-636f180cbc45",
   "metadata": {},
   "outputs": [
    {
     "data": {
      "text/plain": [
       "première main        7841\n",
       "origine              7046\n",
       "prix                    0\n",
       "localisation            0\n",
       "annéemodèle             0\n",
       "boite de vitesses       0\n",
       "type de carburant       0\n",
       "kilométrage             0\n",
       "marque                  0\n",
       "modèle                  0\n",
       "nombre de portes        0\n",
       "puissance fiscale       0\n",
       "état                    0\n",
       "equipements             0\n",
       "dtype: int64"
      ]
     },
     "execution_count": 564,
     "metadata": {},
     "output_type": "execute_result"
    }
   ],
   "source": [
    "avito_data.isna().sum().sort_values(ascending=False)"
   ]
  },
  {
   "cell_type": "markdown",
   "id": "96671614-b239-44c7-b649-ee5f27f98ab3",
   "metadata": {},
   "source": [
    "# 3️⃣ origine – Classification supervisée (Modèle ML d’imputation)"
   ]
  },
  {
   "cell_type": "code",
   "execution_count": 565,
   "id": "64055d29-1a4e-4350-a7f9-64ec633bf493",
   "metadata": {},
   "outputs": [],
   "source": [
    "import pandas as pd\n",
    "from sklearn.ensemble import RandomForestClassifier\n",
    "from sklearn.model_selection import train_test_split\n",
    "from sklearn.preprocessing import OrdinalEncoder\n",
    "\n",
    "# 1. Séparer les lignes avec origine connue et inconnue\n",
    "df_train = avito_data[avito_data['origine'].notna()]\n",
    "df_missing = avito_data[avito_data['origine'].isna()]\n",
    "\n",
    "# 2. Choisir les colonnes pertinentes\n",
    "features = ['kilométrage', 'annéemodèle', 'prix', 'marque', 'modèle', 'type de carburant', 'boite de vitesses']\n",
    "\n",
    "# Nettoyer et préparer\n",
    "df_train = df_train.dropna(subset=features)  # évite de mélanger avec d'autres NaN\n",
    "df_train = df_train.copy()\n",
    "df_missing = df_missing.copy()\n",
    "\n",
    "# Prétraitement\n",
    "encoder = OrdinalEncoder(\n",
    "    handle_unknown='use_encoded_value',\n",
    "    unknown_value=-1\n",
    ")\n",
    "\n",
    "df_train_encoded = df_train.copy()\n",
    "df_train_encoded[features] = encoder.fit_transform(df_train[features])\n",
    "df_missing_encoded = df_missing.copy()\n",
    "df_missing_encoded[features] = encoder.transform(df_missing[features])\n",
    "\n",
    "# 3. Entraînement du modèle\n",
    "X = df_train_encoded[features]\n",
    "y = df_train_encoded['origine']\n",
    "model = RandomForestClassifier(n_estimators=100, random_state=42)\n",
    "model.fit(X, y)\n",
    "\n",
    "# 4. Prédiction\n",
    "y_pred = model.predict(df_missing_encoded[features])\n",
    "\n",
    "# 5. Injection dans le dataframe original\n",
    "avito_data.loc[avito_data['origine'].isna(), 'origine'] = y_pred"
   ]
  },
  {
   "cell_type": "code",
   "execution_count": 566,
   "id": "fff3cfda-e6aa-4ea6-8159-81e4cb0a1731",
   "metadata": {},
   "outputs": [
    {
     "data": {
      "text/plain": [
       "première main        7841\n",
       "prix                    0\n",
       "localisation            0\n",
       "annéemodèle             0\n",
       "boite de vitesses       0\n",
       "type de carburant       0\n",
       "kilométrage             0\n",
       "marque                  0\n",
       "modèle                  0\n",
       "nombre de portes        0\n",
       "origine                 0\n",
       "puissance fiscale       0\n",
       "état                    0\n",
       "equipements             0\n",
       "dtype: int64"
      ]
     },
     "execution_count": 566,
     "metadata": {},
     "output_type": "execute_result"
    }
   ],
   "source": [
    "avito_data.isna().sum().sort_values(ascending=False)"
   ]
  },
  {
   "cell_type": "code",
   "execution_count": 567,
   "id": "bc917e88-d384-4efc-adf6-602967c56800",
   "metadata": {},
   "outputs": [
    {
     "name": "stdout",
     "output_type": "stream",
     "text": [
      "<class 'pandas.core.frame.DataFrame'>\n",
      "Index: 60363 entries, 0 to 60942\n",
      "Data columns (total 14 columns):\n",
      " #   Column             Non-Null Count  Dtype \n",
      "---  ------             --------------  ----- \n",
      " 0   prix               60363 non-null  int64 \n",
      " 1   localisation       60363 non-null  object\n",
      " 2   annéemodèle        60363 non-null  int32 \n",
      " 3   boite de vitesses  60363 non-null  object\n",
      " 4   type de carburant  60363 non-null  object\n",
      " 5   kilométrage        60363 non-null  int32 \n",
      " 6   marque             60363 non-null  object\n",
      " 7   modèle             60363 non-null  object\n",
      " 8   nombre de portes   60363 non-null  Int64 \n",
      " 9   origine            60363 non-null  object\n",
      " 10  première main      52522 non-null  object\n",
      " 11  puissance fiscale  60363 non-null  Int64 \n",
      " 12  état               60363 non-null  object\n",
      " 13  equipements        60363 non-null  object\n",
      "dtypes: Int64(2), int32(2), int64(1), object(9)\n",
      "memory usage: 6.6+ MB\n"
     ]
    }
   ],
   "source": [
    "avito_data.info()"
   ]
  },
  {
   "cell_type": "code",
   "execution_count": 568,
   "id": "778335fc-07a7-47ba-b031-ad6054166abd",
   "metadata": {},
   "outputs": [],
   "source": [
    "# print(avito_data['première main'].value_counts(dropna=False))\n",
    "# print(avito_data['boite de vitesses'].value_counts(dropna=False))\n",
    "# print(avito_data['type de carburant'].value_counts(dropna=False))\n",
    "# print(avito_data['marque'].value_counts(dropna=False))\n",
    "# print(avito_data['modèle'].value_counts(dropna=False))\n",
    "# print(avito_data['nombre de portes'].value_counts(dropna=False))\n",
    "# print(avito_data['origine'].value_counts(dropna=False))\n",
    "# print(avito_data['puissance fiscale'].value_counts(dropna=False))\n",
    "# print(avito_data['état'].value_counts(dropna=False))"
   ]
  },
  {
   "cell_type": "markdown",
   "id": "6d27a2c0-96c3-4ea2-88ea-be42323bde20",
   "metadata": {},
   "source": [
    "# 4️⃣ première main – Imputation par Régression Linéaire"
   ]
  },
  {
   "cell_type": "code",
   "execution_count": 569,
   "id": "eb4d3823-b863-4325-aa48-5b62b16b6fb1",
   "metadata": {},
   "outputs": [],
   "source": [
    "from sklearn.linear_model import LinearRegression\n",
    "from sklearn.preprocessing import LabelEncoder\n",
    "import pandas as pd\n",
    "\n",
    "# 1. Colonnes utilisées pour l'imputation\n",
    "features_for_regression = [\n",
    "    'prix', 'kilométrage', 'annéemodèle', 'puissance fiscale',\n",
    "    'marque', 'modèle', 'origine', 'état', 'boite de vitesses', 'type de carburant'\n",
    "]\n",
    "\n",
    "# 2. Sous-ensemble du DataFrame\n",
    "df_temp = avito_data[features_for_regression].copy()\n",
    "\n",
    "# 3. Encodage des colonnes catégorielles\n",
    "encoders = {}\n",
    "for col in df_temp.select_dtypes(include='object').columns:\n",
    "    df_temp[col] = df_temp[col].astype(str)\n",
    "    le = LabelEncoder()\n",
    "    df_temp[col] = le.fit_transform(df_temp[col])\n",
    "    encoders[col] = le\n",
    "\n",
    "# 4. Diviser les données en celles avec et sans valeurs manquantes\n",
    "df_with_missing = df_temp[avito_data['première main'].isna()]\n",
    "df_without_missing = df_temp[avito_data['première main'].notna()]\n",
    "\n",
    "# 5. Modèle de régression linéaire pour imputer les valeurs manquantes\n",
    "X_train = df_without_missing\n",
    "y_train = avito_data.loc[avito_data['première main'].notna(), 'première main'].astype(int)\n",
    "\n",
    "# Appliquer la régression linéaire\n",
    "regressor = LinearRegression()\n",
    "regressor.fit(X_train, y_train)\n",
    "\n",
    "# 6. Imputation des valeurs manquantes\n",
    "X_test = df_with_missing\n",
    "predicted_values = regressor.predict(X_test)\n",
    "\n",
    "# 7. Convertir les valeurs prédites en True ou False (valeurs binaires)\n",
    "imputed_values = [1 if val >= 0.5 else 0 for val in predicted_values]\n",
    "\n",
    "# 8. Mettre à jour la colonne 'première main' dans le DataFrame original\n",
    "avito_data.loc[avito_data['première main'].isna(), 'première main'] = imputed_values\n",
    "\n",
    "# Remplacer 0 par False et 1 par True\n",
    "avito_data['première main'] = avito_data['première main'].replace({0: 'False', 1: 'True'})\n",
    "\n",
    "# 9. Afficher les résultats\n",
    "# print(avito_data['première main'].value_counts(dropna=False))\n"
   ]
  },
  {
   "cell_type": "code",
   "execution_count": 570,
   "id": "cc7a9116-f53a-4bde-9719-946bc6a109c8",
   "metadata": {},
   "outputs": [
    {
     "data": {
      "text/plain": [
       "array(['False', 'True'], dtype=object)"
      ]
     },
     "execution_count": 570,
     "metadata": {},
     "output_type": "execute_result"
    }
   ],
   "source": [
    "avito_data['première main'].unique()"
   ]
  },
  {
   "cell_type": "code",
   "execution_count": 571,
   "id": "042cfdfe-b356-47a4-b2c9-5dc7c76c4ad6",
   "metadata": {},
   "outputs": [
    {
     "data": {
      "text/plain": [
       "prix                 0\n",
       "localisation         0\n",
       "annéemodèle          0\n",
       "boite de vitesses    0\n",
       "type de carburant    0\n",
       "kilométrage          0\n",
       "marque               0\n",
       "modèle               0\n",
       "nombre de portes     0\n",
       "origine              0\n",
       "première main        0\n",
       "puissance fiscale    0\n",
       "état                 0\n",
       "equipements          0\n",
       "dtype: int64"
      ]
     },
     "execution_count": 571,
     "metadata": {},
     "output_type": "execute_result"
    }
   ],
   "source": [
    "avito_data.isna().sum().sort_values(ascending=False)"
   ]
  },
  {
   "cell_type": "code",
   "execution_count": 572,
   "id": "a7919d5a-f1ca-4d9c-b278-d083ed3eae01",
   "metadata": {},
   "outputs": [
    {
     "data": {
      "text/html": [
       "<div>\n",
       "<style scoped>\n",
       "    .dataframe tbody tr th:only-of-type {\n",
       "        vertical-align: middle;\n",
       "    }\n",
       "\n",
       "    .dataframe tbody tr th {\n",
       "        vertical-align: top;\n",
       "    }\n",
       "\n",
       "    .dataframe thead th {\n",
       "        text-align: right;\n",
       "    }\n",
       "</style>\n",
       "<table border=\"1\" class=\"dataframe\">\n",
       "  <thead>\n",
       "    <tr style=\"text-align: right;\">\n",
       "      <th></th>\n",
       "      <th>prix</th>\n",
       "      <th>annéemodèle</th>\n",
       "      <th>kilométrage</th>\n",
       "      <th>nombre de portes</th>\n",
       "      <th>puissance fiscale</th>\n",
       "    </tr>\n",
       "  </thead>\n",
       "  <tbody>\n",
       "    <tr>\n",
       "      <th>count</th>\n",
       "      <td>6.036300e+04</td>\n",
       "      <td>60363.000000</td>\n",
       "      <td>60363.000000</td>\n",
       "      <td>60363.0</td>\n",
       "      <td>60363.0</td>\n",
       "    </tr>\n",
       "    <tr>\n",
       "      <th>mean</th>\n",
       "      <td>2.170590e+05</td>\n",
       "      <td>2006.969518</td>\n",
       "      <td>143839.810811</td>\n",
       "      <td>4.873863</td>\n",
       "      <td>7.498683</td>\n",
       "    </tr>\n",
       "    <tr>\n",
       "      <th>std</th>\n",
       "      <td>7.179149e+06</td>\n",
       "      <td>98.512543</td>\n",
       "      <td>104415.959475</td>\n",
       "      <td>0.486176</td>\n",
       "      <td>2.902068</td>\n",
       "    </tr>\n",
       "    <tr>\n",
       "      <th>min</th>\n",
       "      <td>4.500000e+03</td>\n",
       "      <td>0.000000</td>\n",
       "      <td>2500.000000</td>\n",
       "      <td>3.0</td>\n",
       "      <td>4.0</td>\n",
       "    </tr>\n",
       "    <tr>\n",
       "      <th>25%</th>\n",
       "      <td>6.200000e+04</td>\n",
       "      <td>2007.000000</td>\n",
       "      <td>57500.000000</td>\n",
       "      <td>5.0</td>\n",
       "      <td>6.0</td>\n",
       "    </tr>\n",
       "    <tr>\n",
       "      <th>50%</th>\n",
       "      <td>1.100000e+05</td>\n",
       "      <td>2014.000000</td>\n",
       "      <td>135000.000000</td>\n",
       "      <td>5.0</td>\n",
       "      <td>7.0</td>\n",
       "    </tr>\n",
       "    <tr>\n",
       "      <th>75%</th>\n",
       "      <td>1.700000e+05</td>\n",
       "      <td>2018.000000</td>\n",
       "      <td>225000.000000</td>\n",
       "      <td>5.0</td>\n",
       "      <td>8.0</td>\n",
       "    </tr>\n",
       "    <tr>\n",
       "      <th>max</th>\n",
       "      <td>1.111111e+09</td>\n",
       "      <td>2025.000000</td>\n",
       "      <td>500000.000000</td>\n",
       "      <td>5.0</td>\n",
       "      <td>41.0</td>\n",
       "    </tr>\n",
       "  </tbody>\n",
       "</table>\n",
       "</div>"
      ],
      "text/plain": [
       "               prix   annéemodèle    kilométrage  nombre de portes  \\\n",
       "count  6.036300e+04  60363.000000   60363.000000           60363.0   \n",
       "mean   2.170590e+05   2006.969518  143839.810811          4.873863   \n",
       "std    7.179149e+06     98.512543  104415.959475          0.486176   \n",
       "min    4.500000e+03      0.000000    2500.000000               3.0   \n",
       "25%    6.200000e+04   2007.000000   57500.000000               5.0   \n",
       "50%    1.100000e+05   2014.000000  135000.000000               5.0   \n",
       "75%    1.700000e+05   2018.000000  225000.000000               5.0   \n",
       "max    1.111111e+09   2025.000000  500000.000000               5.0   \n",
       "\n",
       "       puissance fiscale  \n",
       "count            60363.0  \n",
       "mean            7.498683  \n",
       "std             2.902068  \n",
       "min                  4.0  \n",
       "25%                  6.0  \n",
       "50%                  7.0  \n",
       "75%                  8.0  \n",
       "max                 41.0  "
      ]
     },
     "execution_count": 572,
     "metadata": {},
     "output_type": "execute_result"
    }
   ],
   "source": [
    "avito_data.describe()"
   ]
  },
  {
   "cell_type": "code",
   "execution_count": 573,
   "id": "9516caa6-c7b3-4997-8ada-017d27ea3874",
   "metadata": {},
   "outputs": [
    {
     "name": "stdout",
     "output_type": "stream",
     "text": [
      "<class 'pandas.core.frame.DataFrame'>\n",
      "Index: 60363 entries, 0 to 60942\n",
      "Data columns (total 14 columns):\n",
      " #   Column             Non-Null Count  Dtype \n",
      "---  ------             --------------  ----- \n",
      " 0   prix               60363 non-null  int64 \n",
      " 1   localisation       60363 non-null  object\n",
      " 2   annéemodèle        60363 non-null  int32 \n",
      " 3   boite de vitesses  60363 non-null  object\n",
      " 4   type de carburant  60363 non-null  object\n",
      " 5   kilométrage        60363 non-null  int32 \n",
      " 6   marque             60363 non-null  object\n",
      " 7   modèle             60363 non-null  object\n",
      " 8   nombre de portes   60363 non-null  Int64 \n",
      " 9   origine            60363 non-null  object\n",
      " 10  première main      60363 non-null  object\n",
      " 11  puissance fiscale  60363 non-null  Int64 \n",
      " 12  état               60363 non-null  object\n",
      " 13  equipements        60363 non-null  object\n",
      "dtypes: Int64(2), int32(2), int64(1), object(9)\n",
      "memory usage: 6.6+ MB\n"
     ]
    }
   ],
   "source": [
    "avito_data.info()"
   ]
  },
  {
   "cell_type": "code",
   "execution_count": 574,
   "id": "629c21ef-058c-40d2-ad68-517d638680ed",
   "metadata": {},
   "outputs": [],
   "source": [
    "# print(avito_data['première main'].value_counts(dropna=False))\n",
    "# print(avito_data['boite de vitesses'].value_counts(dropna=False))\n",
    "# print(avito_data['type de carburant'].value_counts(dropna=False))\n",
    "# print(avito_data['marque'].value_counts(dropna=False))\n",
    "# print(avito_data['modèle'].value_counts(dropna=False))\n",
    "# print(avito_data['nombre de portes'].value_counts(dropna=False))\n",
    "# print(avito_data['origine'].value_counts(dropna=False))\n",
    "# print(avito_data['puissance fiscale'].value_counts(dropna=False))\n",
    "# print(avito_data['état'].value_counts(dropna=False))"
   ]
  },
  {
   "cell_type": "code",
   "execution_count": null,
   "id": "acae5bf2-3868-4f61-a70d-120656d32d71",
   "metadata": {},
   "outputs": [],
   "source": []
  },
  {
   "cell_type": "code",
   "execution_count": 575,
   "id": "37956064-5653-45ac-97d7-6cc6b6454765",
   "metadata": {},
   "outputs": [],
   "source": [
    "# # Réinitialiser les index sans conserver la colonne 'index' d'origine\n",
    "# avito_data = avito_data.reset_index(drop=True)\n",
    "\n",
    "# avito_data.head(4000)"
   ]
  },
  {
   "cell_type": "code",
   "execution_count": 576,
   "id": "5324ca93-d948-4721-b2ca-b31493717559",
   "metadata": {},
   "outputs": [
    {
     "name": "stdout",
     "output_type": "stream",
     "text": [
      "['False' 'True']\n",
      "['Automatique' 'Manuelle']\n",
      "['Diesel' 'Essence' 'Hybride' 'Electrique' 'LPG']\n",
      "['Volkswagen' 'BMW' 'Ford' 'Opel' 'Jeep' 'Seat' 'Kia' 'Audi' 'Citroen'\n",
      " 'Dacia' 'Mercedes-Benz' 'Renault' 'Skoda' 'Hyundai' 'Peugeot' 'Nissan'\n",
      " 'Toyota' 'Maserati' 'Honda' 'Chery' 'Porsche' 'Fiat' 'Mitsubishi'\n",
      " 'Chevrolet' 'Land Rover' 'Jaguar' 'Ssangyong' 'Daihatsu' 'Geely' 'DFSK'\n",
      " 'Mini' 'Suzuki' 'Alfa Romeo' 'DS' 'Volvo' 'Lada' 'GWM Motors' 'Abarth'\n",
      " 'Tesla' 'Bentley' 'Lexus' 'Foton' 'Mahindra' 'Mazda' 'Cupra' 'Autres'\n",
      " 'Isuzu' 'Lancia' 'Daewoo' 'Subaru' 'Chrysler' 'Changhe' 'Infiniti'\n",
      " 'Cadillac' 'Faw' 'Tata' 'Rover' 'Dodge' 'Lifan' 'AC' 'Smart' 'Zotye' 'MG'\n",
      " 'SERES' 'Force' 'GAZ' 'BYD' 'Iveco' 'Hummer' 'UFO' 'Rolls-Royce'\n",
      " 'Lincoln' 'Changan' 'GMC' 'Ferrari']\n",
      "['Touareg' 'X3' 'Fiesta' 'Astra' 'Wrangler' 'Ibiza' 'Mokka' 'Focus'\n",
      " 'Carens' 'Série 1' 'A5' 'Kuga' 'C3' 'Q5' 'Logan' 'Classe E' 'Clio'\n",
      " 'Karoq' 'Q8' 'Golf 7' 'i10' 'Tepee' '190' 'Compass' '407' '208' '207'\n",
      " 'Octavia' 'C4' 'Juke' 'Sandero' 'Prado' 'Megane' 'Tiguan' 'Classe C'\n",
      " 'Caddy' 'Express' 'RAV 4' 'Levante' 'i20' 'Série 5' 'City' 'Sportage'\n",
      " 'Tiida' 'QQ' '220' 'Cayenne' 'X5' 'Golf 6' 'Vanette' 'Dokker' 'Accent'\n",
      " '500' '3008' 'L200' 'Passat' 'Santa Fe' 'Crossland' '306' 'Astro'\n",
      " 'Range Rover Evoque' 'Altea XL' 'Renegade' 'Talisman' 'Creta' 'Elantra'\n",
      " 'Classe B' 'Berlingo' 'Golf 8' 'Qashqai' 'XF' 'Série 3' '308' 'A3'\n",
      " 'Korando' 'Q3' 'Corolla' 'Copen' 'C-Crosser' 'Duster' 'Grand Cherokee'\n",
      " 'COOLRAY' 'Macan' 'Glory IX5' 'One' 'Classe CLA' 'Lodgy' 'C-Elysée'\n",
      " 'Rexton' 'Classe A' '500X' 'Golf 5' 'Tucson' 'T-Roc' '508' 'A6' 'Corsa'\n",
      " 'Q7' 'Range Rover Sport' 'Altea' 'Mustang' 'Picanto' 'X4' 'Classe GLC'\n",
      " 'Adam' 'i30' 'Grand Vitara' 'Sorento' 'Yaris' 'Terios' '106' 'Cooper'\n",
      " 'Giulietta' 'R18' '240' '500C' 'Tipo' 'CountryMan' 'DS3' 'Touran'\n",
      " 'Série 4' 'Uno' 'XC60' 'Maruti' 'Classe S' 'Jetta' 'Auris' 'Doblo'\n",
      " 'Bayon' 'S60' 'K5' 'Partner' 'CR-V' 'ix35' 'Polo' '301' 'Superb' 'C5'\n",
      " 'Defender' 'Golf 3' 'Mondeo' 'Punto' 'Austral' 'Range Rover' 'Série 6'\n",
      " 'Série 7' 'Tonale' 'C-Max' 'XC40' 'Classe G' 'Range Rover Vogue' 'Ranger'\n",
      " 'Série 2' 'Kangoo' 'Palio' 'Stelvio' 'Giulia' '309' 'B-Max' 'Ghibli'\n",
      " 'Caravelle' 'Niva' 'Micra' 'DS4' 'Golf 2' 'Ateca' 'XC90' 'Swift' 'Bora'\n",
      " 'Passat CC' 'C-HR' 'Coccinelle' 'Classe CLS' '2008' 'Classe GLE' 'A4'\n",
      " 'Haval H5' 'Fusion' 'DS' '206' 'X2' 'Grandland' 'R4' 'Kadjar' 'Kona'\n",
      " 'Transit' 'Captur' 'F-Pace' 'Pregio' '595' 'Model S' 'Range Rover Velar'\n",
      " 'R5' 'X-Trail' 'Accord' 'Kodiaq' 'Arkana' 'Leon' 'Avenger' 'S90'\n",
      " 'Terracan' 'Continental GT' 'Niro' 'Hilux' 'Alto' 'ES' 'Sonata' '280'\n",
      " 'Fluence' 'Lantra' '5008' 'Panamera' 'Arona' 'Ka' 'Zafira' 'Classe GLA'\n",
      " 'Starlet' 'Fiorino' 'Forland' 'Classe ML' 'Koleos' 'C1' 'Seltos' 'A7'\n",
      " 'A8' 'Twingo' 'Yeti' 'Golf 4' 'Sharan' 'XE' 'Panda' 'Landtrek' 'E-Pace'\n",
      " 'DS7' 'Cherokee' 'Rifter' 'S40' 'Grand Scenic' 'A1' 'Laguna' 'V40' 'Ceed'\n",
      " 'Scorpio' 'Combo' 'EQE' 'Mazda 2' 'Model 3' 'Cordoba' 'Formentor'\n",
      " 'Stavic' 'Scala' 'Civic' 'Outlander' 'X1' 'H-1' 'Master' 'Fullback' '19'\n",
      " 'Tourneo' '405' 'Legend' 'i40' 'Insignia' 'Tercel' '207D' 'Autres' 'Logo'\n",
      " 'Ducato' 'Freemont' 'Xsara' 'Scirocco' 'R21' 'Fox' 'Vel Satis' '250'\n",
      " 'Fortuner' 'Note' 'X6' 'Arteon' 'D-Max' 'Grande Punto' 'Tiggo'\n",
      " 'Glory 500' 'Siena' 'Celerio' 'Rio' 'H-100' 'Sprinter' 'Colt'\n",
      " 'Freelander' 'Mazda 6' '126' '607' 'raptor' 'Pajero Sport' 'Scenic'\n",
      " 'Ecosport' 'Ypsilon' 'Jazz' 'Prius' 'Ioniq 5' 'C15' 'LS' 'Soul' 'Navara'\n",
      " 'Escort' 'Wagon R' 'Solenza' 'Spark' '80' 'Symbol' 'Optra' 'Matiz'\n",
      " 'Jimny' 'K2500' 'Aveo' 'Legacy' 'K01h' 'GK-GS' 'FJ' 'Pathfinder' 'Bipper'\n",
      " 'Lexus' 'Lancer' 'BT-50' '260' 'Modus' 'Cerato' 'Mazda 3' 'Model Y' '307'\n",
      " '504' 'Family' '205' 'Pajero' 'Fabia' 'KUV 100' 'Nemo' 'Corolla Verso'\n",
      " 'Classe GLK' 'SX 4' '14' 'Tiggo 7 Pro' 'UX' 'Discovery Sport' '270'\n",
      " 'Linea' '406' 'Tribeca' 'Lupo' 'Carry' 'Sirion' 'Sebring' 'R9' 'Aygo'\n",
      " 'ID.3' '107' 'Phaeton' 'Kyron' '500L' 'Zoe' 'DS5' 'Ideal' 'ix55'\n",
      " 'Captiva' 'Patrol' 'Camaro' 'AX' 'Pick up' 'C30' 'Super 5' '159'\n",
      " 'Classe CLC' 'Vito' 'Vectra' 'Mito' 'Connect' 'Sonet' 'Galaxy' 'Mascott'\n",
      " 'S-cross' 'Jumper' '12' 'R19' 'Avensis' 'Boxer' 'FX35' 'Trafic' 'Espace'\n",
      " 'Murano' 'Victoria' 'Besta' 'Sunny' 'Fleetwood' '4Runner' '310D'\n",
      " 'Veracruz' 'Cruze' 'Roomster' 'LC' 'HR-V' 'Vento' 'Escalade' 'Bedford'\n",
      " '104' 'Lanos' 'Inca' 'XJ' 'Kicks' 'Latitude' 'Eos' 'Discovery' 'K01s'\n",
      " 'Mini Coupé' 'Atos' 'Almera' '1007' 'Golf Plus' 'Primera' 'X40' 'BX'\n",
      " 'Aerio' '127' 'Odyssey' 'Acty' 'R25' 'K01i' 'Hatch' 'Exeo' 'Cougar'\n",
      " 'V525' 'Splash' 'UP' 'Super Ace' 'H-200' '45' 'Evalia' 'Evanda' '75'\n",
      " 'S80' 'CTS' 'Scudo' '320' '404' 'C31' '410' 'Satellite' 'Multivan' '300'\n",
      " 'Land Cruiser' 'GT 40' 'Amarok' 'Kamiq' 'Tarraco' 'Actyon' '8C' 'Gol'\n",
      " 'Concerto' 'Saxo' 'Golf 1' 'Campo' 'Florid' 'Rapid' 'Boss' 'GT' 'K01'\n",
      " 'Bravo' 'ForTwo' '300 M' 'Verso' 'Brava' 'Vitara' 'Antara' 'C2' 'YRV'\n",
      " 'I.D.Crozz' 'Classe SLK' 'Classe CL' 'Trajet' 'Corolla Cross' '305' 'C6'\n",
      " 'Kadett' 'Albea' 'Croma' '4007' 'PT Cruiser' 'GK-GT' 'GS 350' 'Alero'\n",
      " 'V90' 'GLB' 'POER' 'ds7' 'R11' 'Ami' 'Cayman' 'Super cab' '608'\n",
      " 'Galloper' 'XUV 500' 'K2700' 'Felicia' '600e' 'Hi Ace' '131' 'Nomad'\n",
      " 'Serena' 'CMP' 'Maxima' 'Espero' 'Spring' 'Q2' '412' 'Vios' 'Serie 600'\n",
      " 'ZX' 'HS Phev' '108' 'Classe GLS' '156' 'iX3' 'Parati' 'MG5' 'X-90'\n",
      " 'County' 'Delta' 'TT' 'Viano' '230' 'Seres 3' 'Tivoli' 'Carnival' '403'\n",
      " '166' 'Orlando' 'Grand Voyager' 'CX' 'Boxster' 'Opirus' 'APV' 'F350'\n",
      " '4008' 'Xantia' 'Bertone' '210' 'A113' 'NX' 'Impreza' '147' '300 C'\n",
      " 'e-tron' 'Rodius' 'CX-9' 'Fuego' 'MG HS' 'Expert' 'Classe V' 'Bentayga'\n",
      " 'Stilo' '25' 'Courrier' '146' 'Pick-Up' 'Ulysse' 'Trooper' 'Samurai'\n",
      " 'Xenon' 'F150' 'Jumpy' 'Sintra' 'Transporter' 'Grand Espace' 'Traveller'\n",
      " 'Serie 400' 'Nevada' 'Corvette' 'X-Type' 'Marea' 'A516' 'Ignis' 'Liana'\n",
      " 'E-Golf' 'Caliber' 'S-Type' 'Serie 200' 'Next' 'H' 'Tahoe' 'Proceed'\n",
      " 'Kalos' 'C35' 'RX' 'Everest' '16' '155' 'Omega' 'F1' 'Alhambra' 'Escape'\n",
      " 'Optima' 'Daily' 'Wingle 5' 'AMG GT' 'FX50' 'Landwind' 'H2' 'Serie 800'\n",
      " 'Vivaro' '2 CV' 'Crown Victoria' '605' 'Centennial' '145' 'Kaisser'\n",
      " 'SeiCento' '400' '323' 'Tigra' 'Barchetta' 'XLR' 'F3' 'Toledo' 'Baleno'\n",
      " 'Ciaz' '626' 'Insight' 'Meriva' 'Aerodeck' 'XL7' 'Ascona' 'Z3'\n",
      " 'Samsung SM3' 'MR' 'Capri' 'Serie 100' 'Cobra' 'Mazda 5' 'Citan'\n",
      " 'Grandis' 'E2000' 'SD1' 'Trans Sport' 'Liberty' 'Ioniq Hybrid'\n",
      " 'Expedition' '505' 'DTS' 'RCZ' 'Primastar' 'BLS' 'RV3' 'Regata'\n",
      " 'Classe CLK' '807' 'Taycan' 'Série 8' 'Epica' 'Patriot' 'Versa' 'C70'\n",
      " 'Estafette' 'Wraith' '240SX' 'MK-GL' 'MG3' 'J5' 'Suburban' 'Carina'\n",
      " 'New Beetle' 'Tempra' '204' 'i3' 'Allante' 'Town Car' '806' 'Talento'\n",
      " 'Twizy' 'Multipla' 'Genesis' 'Jolion' 'S70' '350Z' 'Sovreign' 'iX'\n",
      " 'Safrane' 'SSR' '2107' 'Minibus' 'V70' 'Model X' 'Altima' 'Vaneo'\n",
      " 'Uplander' 'MK-GT' 'ZS' 'Canter' 'Classe GL' 'Karman' 'CR8' 'Streetwise'\n",
      " 'GTV' 'Nexia' 'Clubman' '30' 'Smart' 'S-Max' '200' 'Utilitaire' 'Picnic'\n",
      " 'GK-GL' 'Rekord' 'A2' '304' 'HHR' 'J9' 'Hover' 'Ceo' 'Avantime' 'V60'\n",
      " 'B110' 'Terrano' 'Avalanche' 'Quattroporte' 'Cadenza' 'DeVille' 'Nativa'\n",
      " 'Edge' 'XG' 'C25' 'Coupe' 'Crafter' 'B 2500' 'Quoris' 'Seven' 'G35'\n",
      " 'Matrix' 'Ritmo' '408' 'Metro' 'Mohave' 'Agila' 'MB' 'Stream' 'Orion'\n",
      " 'Getz' 'Classe SL' '560' 'SM' 'F-Type' 'CX-5' 'MG4' 'Dzire' 'Kubistar'\n",
      " 'Vigor' 'Stinger' 'Thema' 'TM' 'Frontera' 'Nubira SW' 'QQ6' '124 Spider'\n",
      " 'CS55' 'S-Presso' 'Tundra' 'Sonica' 'GTR' 'EX35' 'Movano' 'Spacetourer'\n",
      " 'XLV' 'MX-6' '718 Cayman' 'SLS AMG' 'California' 'El Camino' 'Visa'\n",
      " 'Calibra' 'DS6' 'Veloster' 'GX3 PRO' 'Burstner' 'C8' 'Prelude' 'ix 5'\n",
      " 'CX-7' 'NSX' 'MX-3' 'Corona' 'Excel' 'CinqueCento' 'Caprice' 'Lacetti'\n",
      " 'Brera' 'Urvan' 'Sephia' 'Arosa' 'Arnage']\n",
      "<IntegerArray>\n",
      "[5, 3]\n",
      "Length: 2, dtype: Int64\n",
      "['WW au Maroc' 'Dédouanée' 'Importée neuve' 'Pas encore dédouanée']\n",
      "<IntegerArray>\n",
      "[12,  8,  6, 11,  7,  9, 10,  4, 17,  5, 27, 13, 21, 20, 28, 18, 16, 15, 22,\n",
      " 14, 30, 34, 23, 39, 24, 41, 32, 25, 31, 29, 37, 38, 35, 19, 36, 33, 40, 26]\n",
      "Length: 38, dtype: Int64\n",
      "['Très bon' 'Excellent' 'Bon' 'Neuf' 'Correct' 'Endommagé' 'Pour Pièces']\n"
     ]
    }
   ],
   "source": [
    "print(avito_data['première main'].unique())\n",
    "print(avito_data['boite de vitesses'].unique())\n",
    "print(avito_data['type de carburant'].unique())\n",
    "print(avito_data['marque'].unique())\n",
    "print(avito_data['modèle'].unique())\n",
    "print(avito_data['nombre de portes'].unique())\n",
    "print(avito_data['origine'].unique())\n",
    "print(avito_data['puissance fiscale'].unique())\n",
    "print(avito_data['état'].unique())"
   ]
  },
  {
   "cell_type": "markdown",
   "id": "37d1dfde-cbe2-4e6a-a558-5a974a83a09a",
   "metadata": {},
   "source": [
    "# Encodage des Colonnes Catégorielles"
   ]
  },
  {
   "cell_type": "markdown",
   "id": "8782d71e-5da1-4303-9405-39d2b02517c1",
   "metadata": {},
   "source": [
    "###  Encodage des colonnes avec des valeurs booléennes - première main"
   ]
  },
  {
   "cell_type": "code",
   "execution_count": 577,
   "id": "3e4f6678-1dc0-463b-8d43-f29f10d00097",
   "metadata": {},
   "outputs": [
    {
     "name": "stdout",
     "output_type": "stream",
     "text": [
      "['False' 'True']\n"
     ]
    }
   ],
   "source": [
    "print(avito_data['première main'].unique())"
   ]
  },
  {
   "cell_type": "code",
   "execution_count": 578,
   "id": "0e8dcc64-1b59-4b0b-8ac7-b516bd432957",
   "metadata": {},
   "outputs": [],
   "source": [
    "avito_data['première main'] = avito_data['première main'].map({'False': 0, 'True': 1})"
   ]
  },
  {
   "cell_type": "code",
   "execution_count": 579,
   "id": "cffea5f3-3dc8-4ec9-83a4-fbe521c28597",
   "metadata": {},
   "outputs": [
    {
     "name": "stdout",
     "output_type": "stream",
     "text": [
      "[0 1]\n",
      "int64\n"
     ]
    }
   ],
   "source": [
    "print(avito_data['première main'].unique())\n",
    "print(avito_data['première main'].dtypes)"
   ]
  },
  {
   "cell_type": "markdown",
   "id": "d91f87db-2af6-44eb-8dc9-558c1e3e7584",
   "metadata": {},
   "source": [
    "###  Encodage des colonnes avec peu de catégories"
   ]
  },
  {
   "cell_type": "markdown",
   "id": "d219f12d-0aeb-4c43-9443-601ec6e2c403",
   "metadata": {},
   "source": [
    "One-Hot Encoding"
   ]
  },
  {
   "cell_type": "code",
   "execution_count": 580,
   "id": "47283a3c-d6c2-4240-9583-f45e8bca3df4",
   "metadata": {},
   "outputs": [],
   "source": [
    "avito_data = pd.get_dummies(avito_data, columns=['boite de vitesses', 'type de carburant', 'boite de vitesses', 'type de carburant', 'état', 'origine'])"
   ]
  },
  {
   "cell_type": "markdown",
   "id": "fd0d5258-3028-4d78-841d-8d9be2d1996d",
   "metadata": {},
   "source": [
    "###  Encodage des colonnes avec avec beaucoup de catégories - marque & modèle"
   ]
  },
  {
   "cell_type": "markdown",
   "id": "ac98b78f-4dd5-4453-8a63-d9737b60f4a5",
   "metadata": {},
   "source": [
    "Frequency Encoding"
   ]
  },
  {
   "cell_type": "code",
   "execution_count": 581,
   "id": "00a05772-f349-44e3-bdd7-9cdaf86d995c",
   "metadata": {},
   "outputs": [],
   "source": [
    "# Colonnes à encoder\n",
    "colonnes_freq_encoding = ['modèle', 'marque']\n",
    "\n",
    "for col in colonnes_freq_encoding:\n",
    "    freq = avito_data[col].value_counts() / len(avito_data)\n",
    "    avito_data[col + '_freq'] = avito_data[col].map(freq)\n",
    "\n",
    "# Optionnel : supprimer les colonnes d'origine\n",
    "avito_data.drop(columns=colonnes_freq_encoding, inplace=True)\n"
   ]
  },
  {
   "cell_type": "markdown",
   "id": "a169a490-cf7b-42ab-a639-b3b2aa0a150f",
   "metadata": {},
   "source": [
    "### encoder la colonne equipements en colonnes binaires et garder uniquement les équipements fréquents (présents dans plus de 5% des annonces) :"
   ]
  },
  {
   "cell_type": "code",
   "execution_count": 582,
   "id": "430c8a4a-ab72-4b96-9177-cc5c4aeb1dc0",
   "metadata": {},
   "outputs": [
    {
     "name": "stdout",
     "output_type": "stream",
     "text": [
      "Équipements fréquents conservés : ['ABS', 'Airbags', 'CD/MP3/Bluetooth', 'Caméra de recul', 'Climatisation', 'ESP', 'Jantes aluminium', 'Limiteur de vitesse', 'Ordinateur de bord', 'Radar de recul', 'Régulateur de vitesse', 'Sièges cuir', 'Système de navigation/GPS', 'Toit ouvrant', 'Verrouillage centralisé à distance', 'Vitres électriques']\n"
     ]
    }
   ],
   "source": [
    "from sklearn.preprocessing import MultiLabelBinarizer\n",
    "import pandas as pd\n",
    "\n",
    "# Supposons que ton DataFrame s'appelle avito_data et contient une colonne 'equipements'\n",
    "\n",
    "# 1. Appliquer MultiLabelBinarizer pour transformer la liste d'équipements\n",
    "mlb = MultiLabelBinarizer()\n",
    "equipements_encoded = mlb.fit_transform(avito_data['equipements'])\n",
    "\n",
    "# 2. Créer un DataFrame pour les colonnes binaires\n",
    "equipements_df = pd.DataFrame(equipements_encoded, columns=mlb.classes_)\n",
    "\n",
    "# 3. Garder uniquement les équipements présents dans plus de 5% des voitures\n",
    "frequent_equipements = equipements_df.mean() > 0.05\n",
    "equipements_frequents_df = equipements_df.loc[:, frequent_equipements]\n",
    "\n",
    "# 4. Supprimer la colonne originale et concaténer les colonnes filtrées\n",
    "avito_data = avito_data.drop(columns=['equipements'])\n",
    "avito_data = pd.concat([avito_data, equipements_frequents_df], axis=1)\n",
    "\n",
    "# Optionnel : afficher les colonnes conservées\n",
    "print(\"Équipements fréquents conservés :\", list(equipements_frequents_df.columns))\n"
   ]
  },
  {
   "cell_type": "code",
   "execution_count": 583,
   "id": "fe3737d3-fa3c-43ca-bc81-7282fa0f4ff4",
   "metadata": {},
   "outputs": [
    {
     "data": {
      "text/html": [
       "<div>\n",
       "<style scoped>\n",
       "    .dataframe tbody tr th:only-of-type {\n",
       "        vertical-align: middle;\n",
       "    }\n",
       "\n",
       "    .dataframe tbody tr th {\n",
       "        vertical-align: top;\n",
       "    }\n",
       "\n",
       "    .dataframe thead th {\n",
       "        text-align: right;\n",
       "    }\n",
       "</style>\n",
       "<table border=\"1\" class=\"dataframe\">\n",
       "  <thead>\n",
       "    <tr style=\"text-align: right;\">\n",
       "      <th></th>\n",
       "      <th>prix</th>\n",
       "      <th>localisation</th>\n",
       "      <th>annéemodèle</th>\n",
       "      <th>kilométrage</th>\n",
       "      <th>nombre de portes</th>\n",
       "      <th>première main</th>\n",
       "      <th>puissance fiscale</th>\n",
       "      <th>boite de vitesses_Automatique</th>\n",
       "      <th>boite de vitesses_Manuelle</th>\n",
       "      <th>type de carburant_Diesel</th>\n",
       "      <th>...</th>\n",
       "      <th>Jantes aluminium</th>\n",
       "      <th>Limiteur de vitesse</th>\n",
       "      <th>Ordinateur de bord</th>\n",
       "      <th>Radar de recul</th>\n",
       "      <th>Régulateur de vitesse</th>\n",
       "      <th>Sièges cuir</th>\n",
       "      <th>Système de navigation/GPS</th>\n",
       "      <th>Toit ouvrant</th>\n",
       "      <th>Verrouillage centralisé à distance</th>\n",
       "      <th>Vitres électriques</th>\n",
       "    </tr>\n",
       "  </thead>\n",
       "  <tbody>\n",
       "    <tr>\n",
       "      <th>0</th>\n",
       "      <td>129000.0</td>\n",
       "      <td>2 Mars, Casablanca</td>\n",
       "      <td>2012.0</td>\n",
       "      <td>225000.0</td>\n",
       "      <td>5</td>\n",
       "      <td>0.0</td>\n",
       "      <td>12</td>\n",
       "      <td>True</td>\n",
       "      <td>False</td>\n",
       "      <td>True</td>\n",
       "      <td>...</td>\n",
       "      <td>1.0</td>\n",
       "      <td>1.0</td>\n",
       "      <td>1.0</td>\n",
       "      <td>1.0</td>\n",
       "      <td>1.0</td>\n",
       "      <td>0.0</td>\n",
       "      <td>1.0</td>\n",
       "      <td>0.0</td>\n",
       "      <td>1.0</td>\n",
       "      <td>1.0</td>\n",
       "    </tr>\n",
       "    <tr>\n",
       "      <th>1</th>\n",
       "      <td>395000.0</td>\n",
       "      <td>Autre secteur, Casablanca</td>\n",
       "      <td>2021.0</td>\n",
       "      <td>165000.0</td>\n",
       "      <td>5</td>\n",
       "      <td>0.0</td>\n",
       "      <td>8</td>\n",
       "      <td>True</td>\n",
       "      <td>False</td>\n",
       "      <td>True</td>\n",
       "      <td>...</td>\n",
       "      <td>0.0</td>\n",
       "      <td>0.0</td>\n",
       "      <td>0.0</td>\n",
       "      <td>0.0</td>\n",
       "      <td>0.0</td>\n",
       "      <td>0.0</td>\n",
       "      <td>0.0</td>\n",
       "      <td>0.0</td>\n",
       "      <td>0.0</td>\n",
       "      <td>0.0</td>\n",
       "    </tr>\n",
       "    <tr>\n",
       "      <th>2</th>\n",
       "      <td>100000.0</td>\n",
       "      <td>2 Mars, Casablanca</td>\n",
       "      <td>2017.0</td>\n",
       "      <td>125000.0</td>\n",
       "      <td>5</td>\n",
       "      <td>0.0</td>\n",
       "      <td>6</td>\n",
       "      <td>False</td>\n",
       "      <td>True</td>\n",
       "      <td>True</td>\n",
       "      <td>...</td>\n",
       "      <td>1.0</td>\n",
       "      <td>0.0</td>\n",
       "      <td>1.0</td>\n",
       "      <td>0.0</td>\n",
       "      <td>0.0</td>\n",
       "      <td>0.0</td>\n",
       "      <td>1.0</td>\n",
       "      <td>0.0</td>\n",
       "      <td>0.0</td>\n",
       "      <td>1.0</td>\n",
       "    </tr>\n",
       "    <tr>\n",
       "      <th>3</th>\n",
       "      <td>235000.0</td>\n",
       "      <td>Centre Ville, Marrakech</td>\n",
       "      <td>2022.0</td>\n",
       "      <td>105000.0</td>\n",
       "      <td>5</td>\n",
       "      <td>1.0</td>\n",
       "      <td>6</td>\n",
       "      <td>False</td>\n",
       "      <td>True</td>\n",
       "      <td>True</td>\n",
       "      <td>...</td>\n",
       "      <td>0.0</td>\n",
       "      <td>0.0</td>\n",
       "      <td>0.0</td>\n",
       "      <td>0.0</td>\n",
       "      <td>0.0</td>\n",
       "      <td>0.0</td>\n",
       "      <td>0.0</td>\n",
       "      <td>0.0</td>\n",
       "      <td>0.0</td>\n",
       "      <td>0.0</td>\n",
       "    </tr>\n",
       "    <tr>\n",
       "      <th>4</th>\n",
       "      <td>260000.0</td>\n",
       "      <td>Autre secteur, Casablanca</td>\n",
       "      <td>2018.0</td>\n",
       "      <td>72500.0</td>\n",
       "      <td>5</td>\n",
       "      <td>1.0</td>\n",
       "      <td>11</td>\n",
       "      <td>False</td>\n",
       "      <td>True</td>\n",
       "      <td>True</td>\n",
       "      <td>...</td>\n",
       "      <td>1.0</td>\n",
       "      <td>1.0</td>\n",
       "      <td>0.0</td>\n",
       "      <td>0.0</td>\n",
       "      <td>1.0</td>\n",
       "      <td>1.0</td>\n",
       "      <td>0.0</td>\n",
       "      <td>0.0</td>\n",
       "      <td>1.0</td>\n",
       "      <td>1.0</td>\n",
       "    </tr>\n",
       "  </tbody>\n",
       "</table>\n",
       "<p>5 rows × 50 columns</p>\n",
       "</div>"
      ],
      "text/plain": [
       "       prix               localisation  annéemodèle  kilométrage  \\\n",
       "0  129000.0         2 Mars, Casablanca       2012.0     225000.0   \n",
       "1  395000.0  Autre secteur, Casablanca       2021.0     165000.0   \n",
       "2  100000.0         2 Mars, Casablanca       2017.0     125000.0   \n",
       "3  235000.0    Centre Ville, Marrakech       2022.0     105000.0   \n",
       "4  260000.0  Autre secteur, Casablanca       2018.0      72500.0   \n",
       "\n",
       "   nombre de portes  première main  puissance fiscale  \\\n",
       "0                 5            0.0                 12   \n",
       "1                 5            0.0                  8   \n",
       "2                 5            0.0                  6   \n",
       "3                 5            1.0                  6   \n",
       "4                 5            1.0                 11   \n",
       "\n",
       "  boite de vitesses_Automatique boite de vitesses_Manuelle  \\\n",
       "0                          True                      False   \n",
       "1                          True                      False   \n",
       "2                         False                       True   \n",
       "3                         False                       True   \n",
       "4                         False                       True   \n",
       "\n",
       "  type de carburant_Diesel  ... Jantes aluminium Limiteur de vitesse  \\\n",
       "0                     True  ...              1.0                 1.0   \n",
       "1                     True  ...              0.0                 0.0   \n",
       "2                     True  ...              1.0                 0.0   \n",
       "3                     True  ...              0.0                 0.0   \n",
       "4                     True  ...              1.0                 1.0   \n",
       "\n",
       "  Ordinateur de bord Radar de recul Régulateur de vitesse Sièges cuir  \\\n",
       "0                1.0            1.0                   1.0         0.0   \n",
       "1                0.0            0.0                   0.0         0.0   \n",
       "2                1.0            0.0                   0.0         0.0   \n",
       "3                0.0            0.0                   0.0         0.0   \n",
       "4                0.0            0.0                   1.0         1.0   \n",
       "\n",
       "  Système de navigation/GPS Toit ouvrant Verrouillage centralisé à distance  \\\n",
       "0                       1.0          0.0                                1.0   \n",
       "1                       0.0          0.0                                0.0   \n",
       "2                       1.0          0.0                                0.0   \n",
       "3                       0.0          0.0                                0.0   \n",
       "4                       0.0          0.0                                1.0   \n",
       "\n",
       "  Vitres électriques  \n",
       "0                1.0  \n",
       "1                0.0  \n",
       "2                1.0  \n",
       "3                0.0  \n",
       "4                1.0  \n",
       "\n",
       "[5 rows x 50 columns]"
      ]
     },
     "execution_count": 583,
     "metadata": {},
     "output_type": "execute_result"
    }
   ],
   "source": [
    "avito_data.head()"
   ]
  },
  {
   "cell_type": "code",
   "execution_count": null,
   "id": "bd20728e-da9b-485f-8def-1bd27c7efcd8",
   "metadata": {},
   "outputs": [],
   "source": []
  },
  {
   "cell_type": "code",
   "execution_count": 584,
   "id": "c0beb8f1-1e2b-47bc-abe6-e4e93db63b5d",
   "metadata": {},
   "outputs": [
    {
     "data": {
      "text/html": [
       "<div>\n",
       "<style scoped>\n",
       "    .dataframe tbody tr th:only-of-type {\n",
       "        vertical-align: middle;\n",
       "    }\n",
       "\n",
       "    .dataframe tbody tr th {\n",
       "        vertical-align: top;\n",
       "    }\n",
       "\n",
       "    .dataframe thead th {\n",
       "        text-align: right;\n",
       "    }\n",
       "</style>\n",
       "<table border=\"1\" class=\"dataframe\">\n",
       "  <thead>\n",
       "    <tr style=\"text-align: right;\">\n",
       "      <th></th>\n",
       "      <th>prix</th>\n",
       "      <th>annéemodèle</th>\n",
       "      <th>kilométrage</th>\n",
       "      <th>nombre de portes</th>\n",
       "      <th>première main</th>\n",
       "      <th>puissance fiscale</th>\n",
       "      <th>modèle_freq</th>\n",
       "      <th>marque_freq</th>\n",
       "      <th>ABS</th>\n",
       "      <th>Airbags</th>\n",
       "      <th>...</th>\n",
       "      <th>Jantes aluminium</th>\n",
       "      <th>Limiteur de vitesse</th>\n",
       "      <th>Ordinateur de bord</th>\n",
       "      <th>Radar de recul</th>\n",
       "      <th>Régulateur de vitesse</th>\n",
       "      <th>Sièges cuir</th>\n",
       "      <th>Système de navigation/GPS</th>\n",
       "      <th>Toit ouvrant</th>\n",
       "      <th>Verrouillage centralisé à distance</th>\n",
       "      <th>Vitres électriques</th>\n",
       "    </tr>\n",
       "  </thead>\n",
       "  <tbody>\n",
       "    <tr>\n",
       "      <th>count</th>\n",
       "      <td>6.036300e+04</td>\n",
       "      <td>60363.000000</td>\n",
       "      <td>60363.000000</td>\n",
       "      <td>60363.0</td>\n",
       "      <td>60363.000000</td>\n",
       "      <td>60363.0</td>\n",
       "      <td>60363.000000</td>\n",
       "      <td>60363.000000</td>\n",
       "      <td>60363.000000</td>\n",
       "      <td>60363.000000</td>\n",
       "      <td>...</td>\n",
       "      <td>60363.000000</td>\n",
       "      <td>60363.000000</td>\n",
       "      <td>60363.000000</td>\n",
       "      <td>60363.000000</td>\n",
       "      <td>60363.000000</td>\n",
       "      <td>60363.000000</td>\n",
       "      <td>60363.000000</td>\n",
       "      <td>60363.000000</td>\n",
       "      <td>60363.000000</td>\n",
       "      <td>60363.000000</td>\n",
       "    </tr>\n",
       "    <tr>\n",
       "      <th>mean</th>\n",
       "      <td>2.170590e+05</td>\n",
       "      <td>2006.969518</td>\n",
       "      <td>143839.810811</td>\n",
       "      <td>4.873863</td>\n",
       "      <td>0.310753</td>\n",
       "      <td>7.498683</td>\n",
       "      <td>0.009220</td>\n",
       "      <td>0.066785</td>\n",
       "      <td>0.446068</td>\n",
       "      <td>0.506916</td>\n",
       "      <td>...</td>\n",
       "      <td>0.474744</td>\n",
       "      <td>0.386777</td>\n",
       "      <td>0.342395</td>\n",
       "      <td>0.368868</td>\n",
       "      <td>0.383414</td>\n",
       "      <td>0.233554</td>\n",
       "      <td>0.297914</td>\n",
       "      <td>0.128092</td>\n",
       "      <td>0.515846</td>\n",
       "      <td>0.554909</td>\n",
       "    </tr>\n",
       "    <tr>\n",
       "      <th>std</th>\n",
       "      <td>7.179149e+06</td>\n",
       "      <td>98.512543</td>\n",
       "      <td>104415.959475</td>\n",
       "      <td>0.486176</td>\n",
       "      <td>0.462806</td>\n",
       "      <td>2.902068</td>\n",
       "      <td>0.008808</td>\n",
       "      <td>0.039682</td>\n",
       "      <td>0.497087</td>\n",
       "      <td>0.499956</td>\n",
       "      <td>...</td>\n",
       "      <td>0.499366</td>\n",
       "      <td>0.487016</td>\n",
       "      <td>0.474515</td>\n",
       "      <td>0.482502</td>\n",
       "      <td>0.486222</td>\n",
       "      <td>0.423095</td>\n",
       "      <td>0.457345</td>\n",
       "      <td>0.334195</td>\n",
       "      <td>0.499753</td>\n",
       "      <td>0.496980</td>\n",
       "    </tr>\n",
       "    <tr>\n",
       "      <th>min</th>\n",
       "      <td>4.500000e+03</td>\n",
       "      <td>0.000000</td>\n",
       "      <td>2500.000000</td>\n",
       "      <td>3.0</td>\n",
       "      <td>0.000000</td>\n",
       "      <td>4.0</td>\n",
       "      <td>0.000017</td>\n",
       "      <td>0.000017</td>\n",
       "      <td>0.000000</td>\n",
       "      <td>0.000000</td>\n",
       "      <td>...</td>\n",
       "      <td>0.000000</td>\n",
       "      <td>0.000000</td>\n",
       "      <td>0.000000</td>\n",
       "      <td>0.000000</td>\n",
       "      <td>0.000000</td>\n",
       "      <td>0.000000</td>\n",
       "      <td>0.000000</td>\n",
       "      <td>0.000000</td>\n",
       "      <td>0.000000</td>\n",
       "      <td>0.000000</td>\n",
       "    </tr>\n",
       "    <tr>\n",
       "      <th>25%</th>\n",
       "      <td>6.200000e+04</td>\n",
       "      <td>2007.000000</td>\n",
       "      <td>57500.000000</td>\n",
       "      <td>5.0</td>\n",
       "      <td>0.000000</td>\n",
       "      <td>6.0</td>\n",
       "      <td>0.002750</td>\n",
       "      <td>0.028163</td>\n",
       "      <td>0.000000</td>\n",
       "      <td>0.000000</td>\n",
       "      <td>...</td>\n",
       "      <td>0.000000</td>\n",
       "      <td>0.000000</td>\n",
       "      <td>0.000000</td>\n",
       "      <td>0.000000</td>\n",
       "      <td>0.000000</td>\n",
       "      <td>0.000000</td>\n",
       "      <td>0.000000</td>\n",
       "      <td>0.000000</td>\n",
       "      <td>0.000000</td>\n",
       "      <td>0.000000</td>\n",
       "    </tr>\n",
       "    <tr>\n",
       "      <th>50%</th>\n",
       "      <td>1.100000e+05</td>\n",
       "      <td>2014.000000</td>\n",
       "      <td>135000.000000</td>\n",
       "      <td>5.0</td>\n",
       "      <td>0.000000</td>\n",
       "      <td>7.0</td>\n",
       "      <td>0.006825</td>\n",
       "      <td>0.060782</td>\n",
       "      <td>0.000000</td>\n",
       "      <td>1.000000</td>\n",
       "      <td>...</td>\n",
       "      <td>0.000000</td>\n",
       "      <td>0.000000</td>\n",
       "      <td>0.000000</td>\n",
       "      <td>0.000000</td>\n",
       "      <td>0.000000</td>\n",
       "      <td>0.000000</td>\n",
       "      <td>0.000000</td>\n",
       "      <td>0.000000</td>\n",
       "      <td>1.000000</td>\n",
       "      <td>1.000000</td>\n",
       "    </tr>\n",
       "    <tr>\n",
       "      <th>75%</th>\n",
       "      <td>1.700000e+05</td>\n",
       "      <td>2018.000000</td>\n",
       "      <td>225000.000000</td>\n",
       "      <td>5.0</td>\n",
       "      <td>1.000000</td>\n",
       "      <td>8.0</td>\n",
       "      <td>0.011166</td>\n",
       "      <td>0.091745</td>\n",
       "      <td>1.000000</td>\n",
       "      <td>1.000000</td>\n",
       "      <td>...</td>\n",
       "      <td>1.000000</td>\n",
       "      <td>1.000000</td>\n",
       "      <td>1.000000</td>\n",
       "      <td>1.000000</td>\n",
       "      <td>1.000000</td>\n",
       "      <td>0.000000</td>\n",
       "      <td>1.000000</td>\n",
       "      <td>0.000000</td>\n",
       "      <td>1.000000</td>\n",
       "      <td>1.000000</td>\n",
       "    </tr>\n",
       "    <tr>\n",
       "      <th>max</th>\n",
       "      <td>1.111111e+09</td>\n",
       "      <td>2025.000000</td>\n",
       "      <td>500000.000000</td>\n",
       "      <td>5.0</td>\n",
       "      <td>1.000000</td>\n",
       "      <td>41.0</td>\n",
       "      <td>0.035916</td>\n",
       "      <td>0.123138</td>\n",
       "      <td>1.000000</td>\n",
       "      <td>1.000000</td>\n",
       "      <td>...</td>\n",
       "      <td>1.000000</td>\n",
       "      <td>1.000000</td>\n",
       "      <td>1.000000</td>\n",
       "      <td>1.000000</td>\n",
       "      <td>1.000000</td>\n",
       "      <td>1.000000</td>\n",
       "      <td>1.000000</td>\n",
       "      <td>1.000000</td>\n",
       "      <td>1.000000</td>\n",
       "      <td>1.000000</td>\n",
       "    </tr>\n",
       "  </tbody>\n",
       "</table>\n",
       "<p>8 rows × 24 columns</p>\n",
       "</div>"
      ],
      "text/plain": [
       "               prix   annéemodèle    kilométrage  nombre de portes  \\\n",
       "count  6.036300e+04  60363.000000   60363.000000           60363.0   \n",
       "mean   2.170590e+05   2006.969518  143839.810811          4.873863   \n",
       "std    7.179149e+06     98.512543  104415.959475          0.486176   \n",
       "min    4.500000e+03      0.000000    2500.000000               3.0   \n",
       "25%    6.200000e+04   2007.000000   57500.000000               5.0   \n",
       "50%    1.100000e+05   2014.000000  135000.000000               5.0   \n",
       "75%    1.700000e+05   2018.000000  225000.000000               5.0   \n",
       "max    1.111111e+09   2025.000000  500000.000000               5.0   \n",
       "\n",
       "       première main  puissance fiscale   modèle_freq   marque_freq  \\\n",
       "count   60363.000000            60363.0  60363.000000  60363.000000   \n",
       "mean        0.310753           7.498683      0.009220      0.066785   \n",
       "std         0.462806           2.902068      0.008808      0.039682   \n",
       "min         0.000000                4.0      0.000017      0.000017   \n",
       "25%         0.000000                6.0      0.002750      0.028163   \n",
       "50%         0.000000                7.0      0.006825      0.060782   \n",
       "75%         1.000000                8.0      0.011166      0.091745   \n",
       "max         1.000000               41.0      0.035916      0.123138   \n",
       "\n",
       "                ABS       Airbags  ...  Jantes aluminium  Limiteur de vitesse  \\\n",
       "count  60363.000000  60363.000000  ...      60363.000000         60363.000000   \n",
       "mean       0.446068      0.506916  ...          0.474744             0.386777   \n",
       "std        0.497087      0.499956  ...          0.499366             0.487016   \n",
       "min        0.000000      0.000000  ...          0.000000             0.000000   \n",
       "25%        0.000000      0.000000  ...          0.000000             0.000000   \n",
       "50%        0.000000      1.000000  ...          0.000000             0.000000   \n",
       "75%        1.000000      1.000000  ...          1.000000             1.000000   \n",
       "max        1.000000      1.000000  ...          1.000000             1.000000   \n",
       "\n",
       "       Ordinateur de bord  Radar de recul  Régulateur de vitesse  \\\n",
       "count        60363.000000    60363.000000           60363.000000   \n",
       "mean             0.342395        0.368868               0.383414   \n",
       "std              0.474515        0.482502               0.486222   \n",
       "min              0.000000        0.000000               0.000000   \n",
       "25%              0.000000        0.000000               0.000000   \n",
       "50%              0.000000        0.000000               0.000000   \n",
       "75%              1.000000        1.000000               1.000000   \n",
       "max              1.000000        1.000000               1.000000   \n",
       "\n",
       "        Sièges cuir  Système de navigation/GPS  Toit ouvrant  \\\n",
       "count  60363.000000               60363.000000  60363.000000   \n",
       "mean       0.233554                   0.297914      0.128092   \n",
       "std        0.423095                   0.457345      0.334195   \n",
       "min        0.000000                   0.000000      0.000000   \n",
       "25%        0.000000                   0.000000      0.000000   \n",
       "50%        0.000000                   0.000000      0.000000   \n",
       "75%        0.000000                   1.000000      0.000000   \n",
       "max        1.000000                   1.000000      1.000000   \n",
       "\n",
       "       Verrouillage centralisé à distance  Vitres électriques  \n",
       "count                        60363.000000        60363.000000  \n",
       "mean                             0.515846            0.554909  \n",
       "std                              0.499753            0.496980  \n",
       "min                              0.000000            0.000000  \n",
       "25%                              0.000000            0.000000  \n",
       "50%                              1.000000            1.000000  \n",
       "75%                              1.000000            1.000000  \n",
       "max                              1.000000            1.000000  \n",
       "\n",
       "[8 rows x 24 columns]"
      ]
     },
     "execution_count": 584,
     "metadata": {},
     "output_type": "execute_result"
    }
   ],
   "source": [
    "avito_data.describe()"
   ]
  },
  {
   "cell_type": "code",
   "execution_count": null,
   "id": "16f3bd42-ff5a-4dea-8cad-937b7b2f2f77",
   "metadata": {},
   "outputs": [],
   "source": []
  },
  {
   "cell_type": "code",
   "execution_count": null,
   "id": "f0f29c40-efa4-401c-8327-4f7162ff136d",
   "metadata": {},
   "outputs": [],
   "source": []
  },
  {
   "cell_type": "code",
   "execution_count": null,
   "id": "6308194b-b3a9-4ad4-b34a-6dbb8c177813",
   "metadata": {},
   "outputs": [],
   "source": []
  },
  {
   "cell_type": "code",
   "execution_count": null,
   "id": "399361c1-af21-4f40-b560-d0dfa650375b",
   "metadata": {},
   "outputs": [],
   "source": []
  },
  {
   "cell_type": "code",
   "execution_count": null,
   "id": "0f16534e-7521-4c90-973c-ffcff02cc880",
   "metadata": {},
   "outputs": [],
   "source": []
  },
  {
   "cell_type": "markdown",
   "id": "0da96614-9660-4996-a44c-644a70d51c35",
   "metadata": {},
   "source": [
    "### Supprimer la colonne localisation"
   ]
  },
  {
   "cell_type": "code",
   "execution_count": 585,
   "id": "4ab76d5a-fb0e-4d1e-aba4-4b7cb9fc013f",
   "metadata": {},
   "outputs": [],
   "source": [
    "# avito_data = avito_data.drop(columns=[\"localisation\"])"
   ]
  },
  {
   "cell_type": "code",
   "execution_count": 586,
   "id": "d02952cb-4ada-4cd4-aef2-840a6bc0f167",
   "metadata": {},
   "outputs": [],
   "source": [
    "# avito_data.head()"
   ]
  },
  {
   "cell_type": "code",
   "execution_count": 587,
   "id": "4eabb1ef-a0fe-4b76-bf52-932940cdcca1",
   "metadata": {},
   "outputs": [
    {
     "name": "stderr",
     "output_type": "stream",
     "text": [
      "C:\\Users\\m\\AppData\\Local\\Temp\\ipykernel_3616\\2404314882.py:2: FutureWarning: Downcasting behavior in `replace` is deprecated and will be removed in a future version. To retain the old behavior, explicitly call `result.infer_objects(copy=False)`. To opt-in to the future behavior, set `pd.set_option('future.no_silent_downcasting', True)`\n",
      "  avito_data = avito_data.replace({True: 1, False: 0})\n"
     ]
    }
   ],
   "source": [
    "# Convertir les booléens True/False en 0/1\n",
    "avito_data = avito_data.replace({True: 1, False: 0})"
   ]
  },
  {
   "cell_type": "code",
   "execution_count": 588,
   "id": "d7dd532b-dd46-4600-9728-4bd027e19233",
   "metadata": {},
   "outputs": [
    {
     "data": {
      "text/plain": [
       "(60941, 50)"
      ]
     },
     "execution_count": 588,
     "metadata": {},
     "output_type": "execute_result"
    }
   ],
   "source": [
    "avito_data.shape"
   ]
  },
  {
   "cell_type": "code",
   "execution_count": 589,
   "id": "92a6e8ae-a076-4b2a-9e1e-8f5b60b03822",
   "metadata": {},
   "outputs": [
    {
     "data": {
      "text/plain": [
       "array([2012., 2021., 2017., 2022., 2018., 2004., 2023., 2024., 2019.,\n",
       "       2020., 2005., 2014., 1991., 2007., 2015., 2009., 2008., 2002.,\n",
       "       2016., 2006., 2011., 2001., 1998., 2013., 2003., 2010., 2025.,\n",
       "       1993., 1984., 1985., 1995., 1996., 1986., 1987.,    0., 2000.,\n",
       "       1999., 1994., 1997., 1992., 1988., 1989., 1990., 1983., 1982.,\n",
       "       1981.,   nan])"
      ]
     },
     "execution_count": 589,
     "metadata": {},
     "output_type": "execute_result"
    }
   ],
   "source": [
    "avito_data['annéemodèle'].unique()"
   ]
  },
  {
   "cell_type": "code",
   "execution_count": 590,
   "id": "8b4b704e-f918-4916-b81b-f531672ca40d",
   "metadata": {},
   "outputs": [
    {
     "data": {
      "text/plain": [
       "2025.0"
      ]
     },
     "execution_count": 590,
     "metadata": {},
     "output_type": "execute_result"
    }
   ],
   "source": [
    "avito_data['annéemodèle'].max()"
   ]
  },
  {
   "cell_type": "code",
   "execution_count": 591,
   "id": "0407af9d-4707-45b1-8635-90cd924cce69",
   "metadata": {},
   "outputs": [
    {
     "data": {
      "text/plain": [
       "0.0"
      ]
     },
     "execution_count": 591,
     "metadata": {},
     "output_type": "execute_result"
    }
   ],
   "source": [
    "avito_data['annéemodèle'].min()"
   ]
  },
  {
   "cell_type": "code",
   "execution_count": 592,
   "id": "997b8a15-5db8-48f3-8dde-1c410e501311",
   "metadata": {},
   "outputs": [
    {
     "data": {
      "text/plain": [
       "1111111111.0"
      ]
     },
     "execution_count": 592,
     "metadata": {},
     "output_type": "execute_result"
    }
   ],
   "source": [
    "avito_data['prix'].max()"
   ]
  },
  {
   "cell_type": "code",
   "execution_count": 593,
   "id": "120ee516-5183-48d8-a235-ba5854ddddb2",
   "metadata": {},
   "outputs": [
    {
     "data": {
      "text/plain": [
       "4500.0"
      ]
     },
     "execution_count": 593,
     "metadata": {},
     "output_type": "execute_result"
    }
   ],
   "source": [
    "avito_data['prix'].min()"
   ]
  },
  {
   "cell_type": "code",
   "execution_count": 594,
   "id": "9b9de9db-d461-41a6-8ab4-40ab3750b830",
   "metadata": {},
   "outputs": [
    {
     "data": {
      "text/plain": [
       "500000.0"
      ]
     },
     "execution_count": 594,
     "metadata": {},
     "output_type": "execute_result"
    }
   ],
   "source": [
    "avito_data['kilométrage'].max()"
   ]
  },
  {
   "cell_type": "code",
   "execution_count": 595,
   "id": "bba8644c-e914-4a7d-af18-05d7c5759f07",
   "metadata": {},
   "outputs": [
    {
     "data": {
      "text/plain": [
       "2500.0"
      ]
     },
     "execution_count": 595,
     "metadata": {},
     "output_type": "execute_result"
    }
   ],
   "source": [
    "avito_data['kilométrage'].min()"
   ]
  },
  {
   "cell_type": "markdown",
   "id": "d5673b69-4783-43c3-8594-56e7ed6d7f10",
   "metadata": {},
   "source": [
    "#  Détecter et supprimer les valeurs aberrantes"
   ]
  },
  {
   "cell_type": "markdown",
   "id": "16b33c3f-adcc-4bb8-bcb0-f3b0e702fa06",
   "metadata": {},
   "source": [
    "### Méthode : IQR (Interquartile Range)"
   ]
  },
  {
   "cell_type": "code",
   "execution_count": 596,
   "id": "90f4bda5-6bc5-4c32-a194-823526287281",
   "metadata": {},
   "outputs": [
    {
     "name": "stdout",
     "output_type": "stream",
     "text": [
      "valeurs min du : kilométrage -193750.0\n",
      "valeurs max du : kilométrage 476250.0\n",
      "→ 567 valeurs aberrantes supprimées dans la colonne 'kilométrage'\n",
      "valeurs min du : puissance fiscale 3.0\n",
      "valeurs max du : puissance fiscale 11.0\n",
      "→ 2953 valeurs aberrantes supprimées dans la colonne 'puissance fiscale'\n",
      "valeurs min du : annéemodèle 1990.5\n",
      "valeurs max du : annéemodèle 2034.5\n",
      "→ 1632 valeurs aberrantes supprimées dans la colonne 'annéemodèle'\n",
      "\n",
      "Nombre total de lignes après nettoyage : 55789\n"
     ]
    }
   ],
   "source": [
    "def remove_outliers_iqr_inplace(df, column):\n",
    "    Q1 = df[column].quantile(0.25)\n",
    "    Q3 = df[column].quantile(0.75)\n",
    "    IQR = Q3 - Q1\n",
    "    lower = Q1 - 1.5 * IQR\n",
    "    upper = Q3 + 1.5 * IQR\n",
    "    initial_len = len(df)\n",
    "    print( 'valeurs min du :', col,lower)\n",
    "    print( 'valeurs max du :', col,upper)\n",
    "    \n",
    "    # Filtrer les lignes à garder (pas outliers)\n",
    "    df.drop(df[(df[column] < lower) | (df[column] > upper)].index, inplace=True)\n",
    "    \n",
    "    print(f\"→ {initial_len - len(df)} valeurs aberrantes supprimées dans la colonne '{column}'\")\n",
    "\n",
    "# Liste des colonnes numériques à traiter\n",
    "colonnes_a_traiter = ['kilométrage', 'puissance fiscale', 'annéemodèle']\n",
    "\n",
    "# Appliquer la suppression des outliers sur chaque colonne\n",
    "for col in colonnes_a_traiter:\n",
    "    remove_outliers_iqr_inplace(avito_data, col)\n",
    "\n",
    "# Vérification\n",
    "print(f\"\\nNombre total de lignes après nettoyage : {len(avito_data)}\")\n"
   ]
  },
  {
   "cell_type": "code",
   "execution_count": 597,
   "id": "6bc477db-8c52-4345-b969-ffcb64a6ed71",
   "metadata": {},
   "outputs": [
    {
     "name": "stdout",
     "output_type": "stream",
     "text": [
      "→ IQR log-transform : seuil min = 17857.08, max = 515071.56\n",
      "→ 0 valeurs aberrantes supprimées après log-IQR\n",
      "\n",
      "✅ Nombre total de lignes après nettoyage du prix : 48353\n"
     ]
    }
   ],
   "source": [
    "def nettoyer_colonne_prix(df, colonne='prix', seuil_bas=25000, seuil_haut=250000):\n",
    "    # Étape 1 : Supprimer selon les règles métiers\n",
    "    df = df[(df[colonne] >= seuil_bas) & (df[colonne] <= seuil_haut)]\n",
    "\n",
    "    # Étape 2 : Appliquer log1p (log(1 + x)) pour gérer l'asymétrie\n",
    "    log_col = np.log1p(df[colonne])\n",
    "\n",
    "    # Étape 3 : IQR sur données transformées\n",
    "    Q1 = log_col.quantile(0.25)\n",
    "    Q3 = log_col.quantile(0.75)\n",
    "    IQR = Q3 - Q1\n",
    "    lower = Q1 - 1.5 * IQR\n",
    "    upper = Q3 + 1.5 * IQR\n",
    "\n",
    "    print(f\"→ IQR log-transform : seuil min = {np.expm1(lower):.2f}, max = {np.expm1(upper):.2f}\")\n",
    "\n",
    "    # Étape 4 : Supprimer les lignes dont la version log est hors IQR\n",
    "    indices_a_supprimer = log_col[(log_col < lower) | (log_col > upper)].index\n",
    "    print(f\"→ {len(indices_a_supprimer)} valeurs aberrantes supprimées après log-IQR\")\n",
    "    \n",
    "    # Suppression finale\n",
    "    df = df.drop(index=indices_a_supprimer)\n",
    "\n",
    "    return df\n",
    "\n",
    "\n",
    "avito_data = nettoyer_colonne_prix(avito_data, 'prix')\n",
    "print(f\"\\n✅ Nombre total de lignes après nettoyage du prix : {len(avito_data)}\")"
   ]
  },
  {
   "cell_type": "code",
   "execution_count": 598,
   "id": "4de1b770-7303-4e02-baf1-c426200d6789",
   "metadata": {},
   "outputs": [],
   "source": [
    "from sklearn.preprocessing import StandardScaler"
   ]
  },
  {
   "cell_type": "code",
   "execution_count": 599,
   "id": "c5205128-1612-4b58-ba1e-9531e170be9c",
   "metadata": {},
   "outputs": [
    {
     "data": {
      "text/plain": [
       "(48353, 50)"
      ]
     },
     "execution_count": 599,
     "metadata": {},
     "output_type": "execute_result"
    }
   ],
   "source": [
    "avito_data.shape"
   ]
  },
  {
   "cell_type": "code",
   "execution_count": 600,
   "id": "7c58e4ac-f78c-40c3-bca0-75da088cc335",
   "metadata": {},
   "outputs": [
    {
     "data": {
      "text/plain": [
       "2025.0"
      ]
     },
     "execution_count": 600,
     "metadata": {},
     "output_type": "execute_result"
    }
   ],
   "source": [
    "print(avito_data['annéemodèle'].max())\n",
    "print(avito_data['annéemodèle'].min())\n",
    "print(avito_data['annéemodèle'].max())\n",
    "print(avito_data['annéemodèle'].min())\n",
    "print(avito_data['prix'].max())\n",
    "print(avito_data['prix'].min())\n",
    "print(avito_data['kilométrage'].max())\n",
    "print(avito_data['kilométrage'].min())"
   ]
  },
  {
   "cell_type": "code",
   "execution_count": 606,
   "id": "b3a09a43-6fcd-4b8b-9198-21ba8422ee74",
   "metadata": {},
   "outputs": [
    {
     "data": {
      "image/png": "[encoded data removed]",
      "text/plain": [
       "<Figure size 1000x600 with 1 Axes>"
      ]
     },
     "metadata": {},
     "output_type": "display_data"
    },
    {
     "data": {
      "image/png": "[encoded data removed]",
      "text/plain": [
       "<Figure size 800x600 with 1 Axes>"
      ]
     },
     "metadata": {},
     "output_type": "display_data"
    },
    {
     "data": {
      "image/png": "[encoded data removed]",
      "text/plain": [
       "<Figure size 1000x600 with 1 Axes>"
      ]
     },
     "metadata": {},
     "output_type": "display_data"
    },
    {
     "data": {
      "image/png": "[encoded data removed]",
      "text/plain": [
       "<Figure size 1000x400 with 1 Axes>"
      ]
     },
     "metadata": {},
     "output_type": "display_data"
    }
   ],
   "source": [
    "# 1. Histogramme\n",
    "plt.figure(figsize=(10, 6))\n",
    "plt.hist(avito_data['prix'], bins=15, edgecolor='black', alpha=0.7)\n",
    "plt.title('Distribution des Prix (Histogramme)')\n",
    "plt.xlabel('Prix')\n",
    "plt.ylabel('Fréquence')\n",
    "plt.grid(axis='y', alpha=0.5)\n",
    "plt.show()\n",
    "\n",
    "# 2. Boîte à moustaches (Box Plot)\n",
    "plt.figure(figsize=(8, 6))\n",
    "sns.boxplot(x=avito_data['prix'])\n",
    "plt.title('Distribution des Prix (Boîte à Moustaches)')\n",
    "plt.xlabel('Prix')\n",
    "plt.show()\n",
    "\n",
    "# 3. Courbe de densité (Density Plot)\n",
    "plt.figure(figsize=(10, 6))\n",
    "sns.kdeplot(avito_data['prix'], fill=True)\n",
    "plt.title('Distribution des Prix (Courbe de Densité)')\n",
    "plt.xlabel('Prix')\n",
    "plt.ylabel('Densité')\n",
    "plt.grid(axis='y', alpha=0.5)\n",
    "plt.show()\n",
    "\n",
    "# 4. Diagramme de dispersion unidimensionnel (Strip Plot)\n",
    "plt.figure(figsize=(10, 4))\n",
    "sns.stripplot(x=avito_data['prix'], jitter=True)\n",
    "plt.title('Distribution des Prix (Diagramme de Dispersion Unidimensionnel)')\n",
    "plt.xlabel('Prix')\n",
    "plt.yticks([])  # Pour ne pas afficher les ticks sur l'axe y\n",
    "plt.show()"
   ]
  },
  {
   "cell_type": "markdown",
   "id": "d6e1c5c3-a4d2-41c1-ace2-7f8139f4a108",
   "metadata": {},
   "source": [
    "## 🔹 1. Visualiser la relation entre les variables et le prix"
   ]
  },
  {
   "cell_type": "code",
   "execution_count": 607,
   "id": "cdc5696d-beaa-4238-9662-409bbf919f5d",
   "metadata": {},
   "outputs": [
    {
     "data": {
      "image/png": "[encoded data removed]",
      "text/plain": [
       "<Figure size 640x480 with 1 Axes>"
      ]
     },
     "metadata": {},
     "output_type": "display_data"
    },
    {
     "data": {
      "image/png": "[encoded data removed]",
      "text/plain": [
       "<Figure size 640x480 with 1 Axes>"
      ]
     },
     "metadata": {},
     "output_type": "display_data"
    },
    {
     "data": {
      "image/png": "[encoded data removed]",
      "text/plain": [
       "<Figure size 640x480 with 1 Axes>"
      ]
     },
     "metadata": {},
     "output_type": "display_data"
    }
   ],
   "source": [
    "import pandas as pd\n",
    "import matplotlib.pyplot as plt\n",
    "import seaborn as sns\n",
    "\n",
    "# Visualisation : prix vs première main\n",
    "sns.boxplot(x='première main', y='prix', data=avito_data)\n",
    "plt.title(\"Prix selon première main\")\n",
    "plt.show()\n",
    "\n",
    "# Visualisation : prix vs nombre de portes\n",
    "sns.boxplot(x='nombre de portes', y='prix', data=avito_data)\n",
    "plt.title(\"Prix selon nombre de portes\")\n",
    "plt.show()\n",
    "\n",
    "# Visualisation : prix vs puissance fiscale (les plus fréquentes uniquement)\n",
    "top_puissance = avito_data['puissance fiscale'].value_counts().nlargest(10).index\n",
    "sns.boxplot(x='puissance fiscale', y='prix', data=avito_data[avito_data['puissance fiscale'].isin(top_puissance)])\n",
    "plt.title(\"Prix selon puissance fiscale (Top 10)\")\n",
    "plt.xticks(rotation=45)\n",
    "plt.show()"
   ]
  },
  {
   "cell_type": "code",
   "execution_count": 608,
   "id": "21239c59-77c3-4fd1-8b4f-4d7c3ec1d582",
   "metadata": {},
   "outputs": [
    {
     "name": "stdout",
     "output_type": "stream",
     "text": [
      "Corrélation avec le prix :\n",
      "prix                                  1.000000\n",
      "annéemodèle                           0.719119\n",
      "boite de vitesses_Automatique         0.486279\n",
      "boite de vitesses_Automatique         0.486279\n",
      "type de carburant_Diesel              0.333458\n",
      "type de carburant_Diesel              0.333458\n",
      "première main                         0.328605\n",
      "état_Excellent                        0.295047\n",
      "type de carburant_Hybride             0.114299\n",
      "type de carburant_Hybride             0.114299\n",
      "origine_WW au Maroc                   0.111914\n",
      "état_Neuf                             0.077750\n",
      "nombre de portes                      0.053812\n",
      "ABS                                   0.028420\n",
      "Radar de recul                        0.025642\n",
      "Airbags                               0.024764\n",
      "ESP                                   0.024659\n",
      "Régulateur de vitesse                 0.024634\n",
      "Limiteur de vitesse                   0.024047\n",
      "Ordinateur de bord                    0.023142\n",
      "Système de navigation/GPS             0.021742\n",
      "Climatisation                         0.021654\n",
      "Jantes aluminium                      0.021183\n",
      "type de carburant_Electrique          0.020942\n",
      "type de carburant_Electrique          0.020942\n",
      "Caméra de recul                       0.019311\n",
      "CD/MP3/Bluetooth                      0.019190\n",
      "Vitres électriques                    0.017313\n",
      "Verrouillage centralisé à distance    0.017075\n",
      "Toit ouvrant                          0.016304\n",
      "Sièges cuir                           0.014690\n",
      "puissance fiscale                     0.011738\n",
      "origine_Importée neuve                0.010406\n",
      "état_Pour Pièces                     -0.002904\n",
      "origine_Pas encore dédouanée         -0.004210\n",
      "type de carburant_LPG                -0.005779\n",
      "type de carburant_LPG                -0.005779\n",
      "modèle_freq                          -0.006390\n",
      "état_Endommagé                       -0.013345\n",
      "marque_freq                          -0.040533\n",
      "état_Très bon                        -0.095278\n",
      "état_Correct                         -0.104631\n",
      "origine_Dédouanée                    -0.124788\n",
      "kilométrage                          -0.163191\n",
      "état_Bon                             -0.281961\n",
      "type de carburant_Essence            -0.362058\n",
      "type de carburant_Essence            -0.362058\n",
      "boite de vitesses_Manuelle           -0.486279\n",
      "boite de vitesses_Manuelle           -0.486279\n",
      "Name: prix, dtype: float64\n"
     ]
    }
   ],
   "source": [
    "# On encode aussi puissance fiscale si besoin (ou on la garde comme numérique)\n",
    "correlation = avito_data.corr(numeric_only=True)['prix'].sort_values(ascending=False)\n",
    "\n",
    "print(\"Corrélation avec le prix :\")\n",
    "print(correlation)\n"
   ]
  },
  {
   "cell_type": "code",
   "execution_count": 609,
   "id": "bd31e8f8-f396-44c9-9c87-db8960f4404a",
   "metadata": {},
   "outputs": [
    {
     "data": {
      "image/png": "[encoded data removed]",
      "text/plain": [
       "<Figure size 640x480 with 2 Axes>"
      ]
     },
     "metadata": {},
     "output_type": "display_data"
    }
   ],
   "source": [
    "sns.heatmap(avito_data.corr(numeric_only=True), cmap=\"coolwarm\", annot=False)\n",
    "plt.title(\"Matrice de corrélation\")\n",
    "plt.show()\n"
   ]
  },
  {
   "cell_type": "code",
   "execution_count": 610,
   "id": "38c3ec46-d9f4-43f4-afaf-95b20336c20b",
   "metadata": {},
   "outputs": [
    {
     "data": {
      "text/html": [
       "<div>\n",
       "<style scoped>\n",
       "    .dataframe tbody tr th:only-of-type {\n",
       "        vertical-align: middle;\n",
       "    }\n",
       "\n",
       "    .dataframe tbody tr th {\n",
       "        vertical-align: top;\n",
       "    }\n",
       "\n",
       "    .dataframe thead th {\n",
       "        text-align: right;\n",
       "    }\n",
       "</style>\n",
       "<table border=\"1\" class=\"dataframe\">\n",
       "  <thead>\n",
       "    <tr style=\"text-align: right;\">\n",
       "      <th></th>\n",
       "      <th>prix</th>\n",
       "      <th>localisation</th>\n",
       "      <th>annéemodèle</th>\n",
       "      <th>kilométrage</th>\n",
       "      <th>nombre de portes</th>\n",
       "      <th>première main</th>\n",
       "      <th>puissance fiscale</th>\n",
       "      <th>boite de vitesses_Automatique</th>\n",
       "      <th>boite de vitesses_Manuelle</th>\n",
       "      <th>type de carburant_Diesel</th>\n",
       "      <th>...</th>\n",
       "      <th>Jantes aluminium</th>\n",
       "      <th>Limiteur de vitesse</th>\n",
       "      <th>Ordinateur de bord</th>\n",
       "      <th>Radar de recul</th>\n",
       "      <th>Régulateur de vitesse</th>\n",
       "      <th>Sièges cuir</th>\n",
       "      <th>Système de navigation/GPS</th>\n",
       "      <th>Toit ouvrant</th>\n",
       "      <th>Verrouillage centralisé à distance</th>\n",
       "      <th>Vitres électriques</th>\n",
       "    </tr>\n",
       "  </thead>\n",
       "  <tbody>\n",
       "    <tr>\n",
       "      <th>2</th>\n",
       "      <td>100000.0</td>\n",
       "      <td>2 Mars, Casablanca</td>\n",
       "      <td>2017.0</td>\n",
       "      <td>125000.0</td>\n",
       "      <td>5</td>\n",
       "      <td>0.0</td>\n",
       "      <td>6</td>\n",
       "      <td>0.0</td>\n",
       "      <td>1.0</td>\n",
       "      <td>1.0</td>\n",
       "      <td>...</td>\n",
       "      <td>1.0</td>\n",
       "      <td>0.0</td>\n",
       "      <td>1.0</td>\n",
       "      <td>0.0</td>\n",
       "      <td>0.0</td>\n",
       "      <td>0.0</td>\n",
       "      <td>1.0</td>\n",
       "      <td>0.0</td>\n",
       "      <td>0.0</td>\n",
       "      <td>1.0</td>\n",
       "    </tr>\n",
       "    <tr>\n",
       "      <th>3</th>\n",
       "      <td>235000.0</td>\n",
       "      <td>Centre Ville, Marrakech</td>\n",
       "      <td>2022.0</td>\n",
       "      <td>105000.0</td>\n",
       "      <td>5</td>\n",
       "      <td>1.0</td>\n",
       "      <td>6</td>\n",
       "      <td>0.0</td>\n",
       "      <td>1.0</td>\n",
       "      <td>1.0</td>\n",
       "      <td>...</td>\n",
       "      <td>0.0</td>\n",
       "      <td>0.0</td>\n",
       "      <td>0.0</td>\n",
       "      <td>0.0</td>\n",
       "      <td>0.0</td>\n",
       "      <td>0.0</td>\n",
       "      <td>0.0</td>\n",
       "      <td>0.0</td>\n",
       "      <td>0.0</td>\n",
       "      <td>0.0</td>\n",
       "    </tr>\n",
       "    <tr>\n",
       "      <th>5</th>\n",
       "      <td>38000.0</td>\n",
       "      <td>Route d'Amezmiz, Marrakech</td>\n",
       "      <td>2004.0</td>\n",
       "      <td>425000.0</td>\n",
       "      <td>3</td>\n",
       "      <td>0.0</td>\n",
       "      <td>8</td>\n",
       "      <td>0.0</td>\n",
       "      <td>1.0</td>\n",
       "      <td>1.0</td>\n",
       "      <td>...</td>\n",
       "      <td>0.0</td>\n",
       "      <td>0.0</td>\n",
       "      <td>0.0</td>\n",
       "      <td>0.0</td>\n",
       "      <td>0.0</td>\n",
       "      <td>0.0</td>\n",
       "      <td>0.0</td>\n",
       "      <td>0.0</td>\n",
       "      <td>0.0</td>\n",
       "      <td>0.0</td>\n",
       "    </tr>\n",
       "    <tr>\n",
       "      <th>6</th>\n",
       "      <td>218000.0</td>\n",
       "      <td>Centre ville, Tanger</td>\n",
       "      <td>2023.0</td>\n",
       "      <td>42500.0</td>\n",
       "      <td>5</td>\n",
       "      <td>1.0</td>\n",
       "      <td>6</td>\n",
       "      <td>0.0</td>\n",
       "      <td>1.0</td>\n",
       "      <td>1.0</td>\n",
       "      <td>...</td>\n",
       "      <td>0.0</td>\n",
       "      <td>0.0</td>\n",
       "      <td>0.0</td>\n",
       "      <td>0.0</td>\n",
       "      <td>0.0</td>\n",
       "      <td>0.0</td>\n",
       "      <td>0.0</td>\n",
       "      <td>0.0</td>\n",
       "      <td>0.0</td>\n",
       "      <td>0.0</td>\n",
       "    </tr>\n",
       "    <tr>\n",
       "      <th>7</th>\n",
       "      <td>109000.0</td>\n",
       "      <td>Toute la ville, Khouribga</td>\n",
       "      <td>2012.0</td>\n",
       "      <td>225000.0</td>\n",
       "      <td>5</td>\n",
       "      <td>0.0</td>\n",
       "      <td>6</td>\n",
       "      <td>0.0</td>\n",
       "      <td>1.0</td>\n",
       "      <td>1.0</td>\n",
       "      <td>...</td>\n",
       "      <td>1.0</td>\n",
       "      <td>1.0</td>\n",
       "      <td>1.0</td>\n",
       "      <td>1.0</td>\n",
       "      <td>1.0</td>\n",
       "      <td>0.0</td>\n",
       "      <td>1.0</td>\n",
       "      <td>0.0</td>\n",
       "      <td>1.0</td>\n",
       "      <td>1.0</td>\n",
       "    </tr>\n",
       "  </tbody>\n",
       "</table>\n",
       "<p>5 rows × 50 columns</p>\n",
       "</div>"
      ],
      "text/plain": [
       "       prix                localisation  annéemodèle  kilométrage  \\\n",
       "2  100000.0          2 Mars, Casablanca       2017.0     125000.0   \n",
       "3  235000.0     Centre Ville, Marrakech       2022.0     105000.0   \n",
       "5   38000.0  Route d'Amezmiz, Marrakech       2004.0     425000.0   \n",
       "6  218000.0        Centre ville, Tanger       2023.0      42500.0   \n",
       "7  109000.0   Toute la ville, Khouribga       2012.0     225000.0   \n",
       "\n",
       "   nombre de portes  première main  puissance fiscale  \\\n",
       "2                 5            0.0                  6   \n",
       "3                 5            1.0                  6   \n",
       "5                 3            0.0                  8   \n",
       "6                 5            1.0                  6   \n",
       "7                 5            0.0                  6   \n",
       "\n",
       "   boite de vitesses_Automatique  boite de vitesses_Manuelle  \\\n",
       "2                            0.0                         1.0   \n",
       "3                            0.0                         1.0   \n",
       "5                            0.0                         1.0   \n",
       "6                            0.0                         1.0   \n",
       "7                            0.0                         1.0   \n",
       "\n",
       "   type de carburant_Diesel  ...  Jantes aluminium  Limiteur de vitesse  \\\n",
       "2                       1.0  ...               1.0                  0.0   \n",
       "3                       1.0  ...               0.0                  0.0   \n",
       "5                       1.0  ...               0.0                  0.0   \n",
       "6                       1.0  ...               0.0                  0.0   \n",
       "7                       1.0  ...               1.0                  1.0   \n",
       "\n",
       "   Ordinateur de bord  Radar de recul  Régulateur de vitesse  Sièges cuir  \\\n",
       "2                 1.0             0.0                    0.0          0.0   \n",
       "3                 0.0             0.0                    0.0          0.0   \n",
       "5                 0.0             0.0                    0.0          0.0   \n",
       "6                 0.0             0.0                    0.0          0.0   \n",
       "7                 1.0             1.0                    1.0          0.0   \n",
       "\n",
       "   Système de navigation/GPS  Toit ouvrant  \\\n",
       "2                        1.0           0.0   \n",
       "3                        0.0           0.0   \n",
       "5                        0.0           0.0   \n",
       "6                        0.0           0.0   \n",
       "7                        1.0           0.0   \n",
       "\n",
       "   Verrouillage centralisé à distance  Vitres électriques  \n",
       "2                                 0.0                 1.0  \n",
       "3                                 0.0                 0.0  \n",
       "5                                 0.0                 0.0  \n",
       "6                                 0.0                 0.0  \n",
       "7                                 1.0                 1.0  \n",
       "\n",
       "[5 rows x 50 columns]"
      ]
     },
     "execution_count": 610,
     "metadata": {},
     "output_type": "execute_result"
    }
   ],
   "source": [
    "avito_data.head()"
   ]
  },
  {
   "cell_type": "code",
   "execution_count": 611,
   "id": "7f1fc5bf-93cc-44d3-b504-6e10c0f19d0a",
   "metadata": {},
   "outputs": [],
   "source": [
    "# pd.set_option('display.max_rows', None)\n"
   ]
  },
  {
   "cell_type": "code",
   "execution_count": 612,
   "id": "1cf1d224-8ea9-447c-9318-a9ccffcf9a3f",
   "metadata": {
    "scrolled": true
   },
   "outputs": [],
   "source": [
    "# avito_data.head(4000)"
   ]
  },
  {
   "cell_type": "code",
   "execution_count": null,
   "id": "9743bf20-35bd-4ecb-96e3-bc26d5345c51",
   "metadata": {},
   "outputs": [],
   "source": []
  }
 ],
 "metadata": {
  "kernelspec": {
   "display_name": "Python 3 (ipykernel)",
   "language": "python",
   "name": "python3"
  },
  "language_info": {
   "codemirror_mode": {
    "name": "ipython",
    "version": 3
   },
   "file_extension": ".py",
   "mimetype": "text/x-python",
   "name": "python",
   "nbconvert_exporter": "python",
   "pygments_lexer": "ipython3",
   "version": "3.12.4"
  }
 },
 "nbformat": 4,
 "nbformat_minor": 5
}
